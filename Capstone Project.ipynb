{
 "cells": [
  {
   "cell_type": "code",
   "execution_count": 449,
   "metadata": {},
   "outputs": [
    {
     "name": "stdout",
     "output_type": "stream",
     "text": [
      "Requirement already satisfied: gitpython in /Users/michelleazarhoosh/opt/anaconda3/envs/py3.6/lib/python3.6/site-packages (3.1.11)\n",
      "Requirement already satisfied: gitdb<5,>=4.0.1 in /Users/michelleazarhoosh/opt/anaconda3/envs/py3.6/lib/python3.6/site-packages (from gitpython) (4.0.5)\n",
      "Requirement already satisfied: smmap<4,>=3.0.1 in /Users/michelleazarhoosh/opt/anaconda3/envs/py3.6/lib/python3.6/site-packages (from gitdb<5,>=4.0.1->gitpython) (3.0.4)\n",
      "Requirement already satisfied: keras==2.3.1 in /Users/michelleazarhoosh/opt/anaconda3/envs/py3.6/lib/python3.6/site-packages (2.3.1)\n",
      "Requirement already satisfied: numpy>=1.9.1 in /Users/michelleazarhoosh/opt/anaconda3/envs/py3.6/lib/python3.6/site-packages (from keras==2.3.1) (1.17.0)\n",
      "Requirement already satisfied: keras-applications>=1.0.6 in /Users/michelleazarhoosh/opt/anaconda3/envs/py3.6/lib/python3.6/site-packages (from keras==2.3.1) (1.0.8)\n",
      "Requirement already satisfied: pyyaml in /Users/michelleazarhoosh/opt/anaconda3/envs/py3.6/lib/python3.6/site-packages (from keras==2.3.1) (5.3.1)\n",
      "Requirement already satisfied: h5py in /Users/michelleazarhoosh/opt/anaconda3/envs/py3.6/lib/python3.6/site-packages (from keras==2.3.1) (2.10.0)\n",
      "Requirement already satisfied: scipy>=0.14 in /Users/michelleazarhoosh/opt/anaconda3/envs/py3.6/lib/python3.6/site-packages (from keras==2.3.1) (1.4.1)\n",
      "Requirement already satisfied: keras-preprocessing>=1.0.5 in /Users/michelleazarhoosh/opt/anaconda3/envs/py3.6/lib/python3.6/site-packages (from keras==2.3.1) (1.1.2)\n",
      "Requirement already satisfied: six>=1.9.0 in /Users/michelleazarhoosh/opt/anaconda3/envs/py3.6/lib/python3.6/site-packages (from keras==2.3.1) (1.15.0)\n",
      "Requirement already satisfied: plotly in /Users/michelleazarhoosh/opt/anaconda3/envs/py3.6/lib/python3.6/site-packages (4.12.0)\n",
      "Requirement already satisfied: six in /Users/michelleazarhoosh/opt/anaconda3/envs/py3.6/lib/python3.6/site-packages (from plotly) (1.15.0)\n",
      "Requirement already satisfied: retrying>=1.3.3 in /Users/michelleazarhoosh/opt/anaconda3/envs/py3.6/lib/python3.6/site-packages (from plotly) (1.3.3)\n"
     ]
    }
   ],
   "source": [
    "!pip install gitpython\n",
    "!pip install keras==2.3.1\n",
    "!pip install plotly"
   ]
  },
  {
   "cell_type": "code",
   "execution_count": 450,
   "metadata": {},
   "outputs": [],
   "source": [
    "import keras\n",
    "from keras.layers import Dense\n",
    "from keras.models import Sequential\n",
    "from keras.optimizers import Adam \n",
    "from keras.callbacks import EarlyStopping\n",
    "from keras.utils import np_utils\n",
    "from keras.layers import LSTM\n",
    "from sklearn.model_selection import KFold, cross_val_score, train_test_split\n",
    "import os\n",
    "import json\n",
    "import sklearn\n",
    "import sys\n",
    "import pickle\n",
    "import re\n",
    "import requests\n",
    "import git\n",
    "import pandas as pd\n",
    "import numpy as np\n",
    "import warnings\n",
    "import itertools\n",
    "import numpy as np\n",
    "import matplotlib.pyplot as plt\n",
    "warnings.filterwarnings(\"ignore\")\n",
    "plt.style.use('fivethirtyeight')\n",
    "import statsmodels.api as sm\n",
    "import matplotlib\n",
    "matplotlib.rcParams['axes.labelsize'] = 14\n",
    "matplotlib.rcParams['xtick.labelsize'] = 12\n",
    "matplotlib.rcParams['ytick.labelsize'] = 12\n",
    "matplotlib.rcParams['text.color'] = 'k'\n",
    "import plotly.offline as pyoff\n",
    "import plotly.graph_objs as go\n",
    "from sklearn.feature_extraction import text\n",
    "from string import punctuation, printable\n",
    "from sklearn.feature_extraction.text import TfidfVectorizer\n",
    "from sklearn.model_selection import train_test_split\n",
    "from sklearn.linear_model import SGDClassifier\n",
    "from sklearn.metrics import classification_report, confusion_matrix"
   ]
  },
  {
   "cell_type": "code",
   "execution_count": 451,
   "metadata": {},
   "outputs": [
    {
     "data": {
      "text/plain": [
       "['invoices-2018-01.json',\n",
       " 'invoices-2017-12.json',\n",
       " 'invoices-2019-01.json',\n",
       " 'invoices-2018-11.json',\n",
       " 'invoices-2018-07.json',\n",
       " 'invoices-2019-06.json',\n",
       " 'invoices-2019-07.json',\n",
       " 'invoices-2018-06.json',\n",
       " 'invoices-2018-10.json',\n",
       " 'invoices-2018-09.json',\n",
       " 'invoices-2019-04.json',\n",
       " 'invoices-2018-05.json',\n",
       " 'invoices-2018-12.json',\n",
       " 'invoices-2018-04.json',\n",
       " 'invoices-2019-05.json',\n",
       " 'invoices-2018-08.json',\n",
       " 'invoices-2019-02.json',\n",
       " 'invoices-2018-03.json',\n",
       " 'invoices-2017-11.json',\n",
       " 'invoices-2018-02.json',\n",
       " 'invoices-2019-03.json']"
      ]
     },
     "execution_count": 451,
     "metadata": {},
     "output_type": "execute_result"
    }
   ],
   "source": [
    "path_to_json = './ai-workflow-capstone/cs-train'\n",
    "json_files = [pos_json for pos_json in os.listdir(path_to_json) if pos_json.endswith('.json')]\n",
    "json_files"
   ]
  },
  {
   "cell_type": "code",
   "execution_count": 452,
   "metadata": {},
   "outputs": [
    {
     "data": {
      "text/html": [
       "<div>\n",
       "<style scoped>\n",
       "    .dataframe tbody tr th:only-of-type {\n",
       "        vertical-align: middle;\n",
       "    }\n",
       "\n",
       "    .dataframe tbody tr th {\n",
       "        vertical-align: top;\n",
       "    }\n",
       "\n",
       "    .dataframe thead th {\n",
       "        text-align: right;\n",
       "    }\n",
       "</style>\n",
       "<table border=\"1\" class=\"dataframe\">\n",
       "  <thead>\n",
       "    <tr style=\"text-align: right;\">\n",
       "      <th></th>\n",
       "      <th>country</th>\n",
       "      <th>customer_id</th>\n",
       "      <th>invoice</th>\n",
       "      <th>total_price</th>\n",
       "      <th>stream_id</th>\n",
       "      <th>times_viewed</th>\n",
       "      <th>year</th>\n",
       "      <th>month</th>\n",
       "      <th>day</th>\n",
       "    </tr>\n",
       "  </thead>\n",
       "  <tbody>\n",
       "    <tr>\n",
       "      <th>0</th>\n",
       "      <td>United Kingdom</td>\n",
       "      <td>15581.0</td>\n",
       "      <td>493463</td>\n",
       "      <td>2.95</td>\n",
       "      <td>20895</td>\n",
       "      <td>1</td>\n",
       "      <td>2018</td>\n",
       "      <td>1</td>\n",
       "      <td>1</td>\n",
       "    </tr>\n",
       "    <tr>\n",
       "      <th>1</th>\n",
       "      <td>United Kingdom</td>\n",
       "      <td>15581.0</td>\n",
       "      <td>493463</td>\n",
       "      <td>1.25</td>\n",
       "      <td>20866</td>\n",
       "      <td>1</td>\n",
       "      <td>2018</td>\n",
       "      <td>1</td>\n",
       "      <td>1</td>\n",
       "    </tr>\n",
       "    <tr>\n",
       "      <th>2</th>\n",
       "      <td>United Kingdom</td>\n",
       "      <td>15581.0</td>\n",
       "      <td>493463</td>\n",
       "      <td>0.85</td>\n",
       "      <td>85198</td>\n",
       "      <td>12</td>\n",
       "      <td>2018</td>\n",
       "      <td>1</td>\n",
       "      <td>1</td>\n",
       "    </tr>\n",
       "    <tr>\n",
       "      <th>3</th>\n",
       "      <td>United Kingdom</td>\n",
       "      <td>15581.0</td>\n",
       "      <td>493463</td>\n",
       "      <td>2.95</td>\n",
       "      <td>20897</td>\n",
       "      <td>1</td>\n",
       "      <td>2018</td>\n",
       "      <td>1</td>\n",
       "      <td>1</td>\n",
       "    </tr>\n",
       "    <tr>\n",
       "      <th>4</th>\n",
       "      <td>United Kingdom</td>\n",
       "      <td>15581.0</td>\n",
       "      <td>493463</td>\n",
       "      <td>2.95</td>\n",
       "      <td>20898</td>\n",
       "      <td>1</td>\n",
       "      <td>2018</td>\n",
       "      <td>1</td>\n",
       "      <td>1</td>\n",
       "    </tr>\n",
       "  </tbody>\n",
       "</table>\n",
       "</div>"
      ],
      "text/plain": [
       "          country  customer_id invoice  total_price stream_id  times_viewed  \\\n",
       "0  United Kingdom      15581.0  493463         2.95     20895             1   \n",
       "1  United Kingdom      15581.0  493463         1.25     20866             1   \n",
       "2  United Kingdom      15581.0  493463         0.85     85198            12   \n",
       "3  United Kingdom      15581.0  493463         2.95     20897             1   \n",
       "4  United Kingdom      15581.0  493463         2.95     20898             1   \n",
       "\n",
       "   year  month  day  \n",
       "0  2018      1    1  \n",
       "1  2018      1    1  \n",
       "2  2018      1    1  \n",
       "3  2018      1    1  \n",
       "4  2018      1    1  "
      ]
     },
     "execution_count": 452,
     "metadata": {},
     "output_type": "execute_result"
    }
   ],
   "source": [
    "appended_data = []\n",
    "for i in json_files:\n",
    "    data = pd.read_json(path_to_json+'/'+i)\n",
    "    data = data.rename(columns={'StreamID': 'stream_id', 'TimesViewed': 'times_viewed', 'price' : 'total_price'})\n",
    "    appended_data.append(data)\n",
    "appended_data = pd.concat(appended_data)\n",
    "appended_data.head()"
   ]
  },
  {
   "cell_type": "code",
   "execution_count": 453,
   "metadata": {},
   "outputs": [
    {
     "data": {
      "text/html": [
       "<div>\n",
       "<style scoped>\n",
       "    .dataframe tbody tr th:only-of-type {\n",
       "        vertical-align: middle;\n",
       "    }\n",
       "\n",
       "    .dataframe tbody tr th {\n",
       "        vertical-align: top;\n",
       "    }\n",
       "\n",
       "    .dataframe thead th {\n",
       "        text-align: right;\n",
       "    }\n",
       "</style>\n",
       "<table border=\"1\" class=\"dataframe\">\n",
       "  <thead>\n",
       "    <tr style=\"text-align: right;\">\n",
       "      <th></th>\n",
       "      <th>country</th>\n",
       "      <th>customer_id</th>\n",
       "      <th>invoice</th>\n",
       "      <th>total_price</th>\n",
       "      <th>stream_id</th>\n",
       "      <th>times_viewed</th>\n",
       "      <th>year</th>\n",
       "      <th>month</th>\n",
       "      <th>day</th>\n",
       "      <th>date</th>\n",
       "    </tr>\n",
       "  </thead>\n",
       "  <tbody>\n",
       "    <tr>\n",
       "      <th>0</th>\n",
       "      <td>United Kingdom</td>\n",
       "      <td>15581.0</td>\n",
       "      <td>493463</td>\n",
       "      <td>2.95</td>\n",
       "      <td>20895</td>\n",
       "      <td>1</td>\n",
       "      <td>2018</td>\n",
       "      <td>1</td>\n",
       "      <td>1</td>\n",
       "      <td>2018-01-01</td>\n",
       "    </tr>\n",
       "    <tr>\n",
       "      <th>1</th>\n",
       "      <td>United Kingdom</td>\n",
       "      <td>15581.0</td>\n",
       "      <td>493463</td>\n",
       "      <td>1.25</td>\n",
       "      <td>20866</td>\n",
       "      <td>1</td>\n",
       "      <td>2018</td>\n",
       "      <td>1</td>\n",
       "      <td>1</td>\n",
       "      <td>2018-01-01</td>\n",
       "    </tr>\n",
       "    <tr>\n",
       "      <th>2</th>\n",
       "      <td>United Kingdom</td>\n",
       "      <td>15581.0</td>\n",
       "      <td>493463</td>\n",
       "      <td>0.85</td>\n",
       "      <td>85198</td>\n",
       "      <td>12</td>\n",
       "      <td>2018</td>\n",
       "      <td>1</td>\n",
       "      <td>1</td>\n",
       "      <td>2018-01-01</td>\n",
       "    </tr>\n",
       "    <tr>\n",
       "      <th>3</th>\n",
       "      <td>United Kingdom</td>\n",
       "      <td>15581.0</td>\n",
       "      <td>493463</td>\n",
       "      <td>2.95</td>\n",
       "      <td>20897</td>\n",
       "      <td>1</td>\n",
       "      <td>2018</td>\n",
       "      <td>1</td>\n",
       "      <td>1</td>\n",
       "      <td>2018-01-01</td>\n",
       "    </tr>\n",
       "    <tr>\n",
       "      <th>4</th>\n",
       "      <td>United Kingdom</td>\n",
       "      <td>15581.0</td>\n",
       "      <td>493463</td>\n",
       "      <td>2.95</td>\n",
       "      <td>20898</td>\n",
       "      <td>1</td>\n",
       "      <td>2018</td>\n",
       "      <td>1</td>\n",
       "      <td>1</td>\n",
       "      <td>2018-01-01</td>\n",
       "    </tr>\n",
       "  </tbody>\n",
       "</table>\n",
       "</div>"
      ],
      "text/plain": [
       "          country  customer_id  invoice  total_price stream_id  times_viewed  \\\n",
       "0  United Kingdom      15581.0   493463         2.95     20895             1   \n",
       "1  United Kingdom      15581.0   493463         1.25     20866             1   \n",
       "2  United Kingdom      15581.0   493463         0.85     85198            12   \n",
       "3  United Kingdom      15581.0   493463         2.95     20897             1   \n",
       "4  United Kingdom      15581.0   493463         2.95     20898             1   \n",
       "\n",
       "   year  month  day       date  \n",
       "0  2018      1    1 2018-01-01  \n",
       "1  2018      1    1 2018-01-01  \n",
       "2  2018      1    1 2018-01-01  \n",
       "3  2018      1    1 2018-01-01  \n",
       "4  2018      1    1 2018-01-01  "
      ]
     },
     "execution_count": 453,
     "metadata": {},
     "output_type": "execute_result"
    }
   ],
   "source": [
    "appended_data[\"date\"] = appended_data[\"day\"].astype(str) + '-' + appended_data[\"month\"].astype(str) + '-' + appended_data[\"year\"].astype(str)\n",
    "appended_data['invoice'] = appended_data['invoice'].str.replace(r'\\D', '').astype(int)\n",
    "appended_data['date']= pd.to_datetime(appended_data['date'])\n",
    "appended_data.head()"
   ]
  },
  {
   "cell_type": "code",
   "execution_count": 454,
   "metadata": {},
   "outputs": [
    {
     "data": {
      "text/html": [
       "<div>\n",
       "<style scoped>\n",
       "    .dataframe tbody tr th:only-of-type {\n",
       "        vertical-align: middle;\n",
       "    }\n",
       "\n",
       "    .dataframe tbody tr th {\n",
       "        vertical-align: top;\n",
       "    }\n",
       "\n",
       "    .dataframe thead th {\n",
       "        text-align: right;\n",
       "    }\n",
       "</style>\n",
       "<table border=\"1\" class=\"dataframe\">\n",
       "  <thead>\n",
       "    <tr style=\"text-align: right;\">\n",
       "      <th></th>\n",
       "      <th>customer_id</th>\n",
       "      <th>invoice</th>\n",
       "      <th>total_price</th>\n",
       "      <th>times_viewed</th>\n",
       "      <th>year</th>\n",
       "      <th>month</th>\n",
       "      <th>day</th>\n",
       "    </tr>\n",
       "  </thead>\n",
       "  <tbody>\n",
       "    <tr>\n",
       "      <th>count</th>\n",
       "      <td>625249.000000</td>\n",
       "      <td>815011.000000</td>\n",
       "      <td>815011.000000</td>\n",
       "      <td>815011.000000</td>\n",
       "      <td>815011.000000</td>\n",
       "      <td>815011.000000</td>\n",
       "      <td>815011.000000</td>\n",
       "    </tr>\n",
       "    <tr>\n",
       "      <th>mean</th>\n",
       "      <td>15333.415068</td>\n",
       "      <td>526773.221948</td>\n",
       "      <td>4.802631</td>\n",
       "      <td>5.231106</td>\n",
       "      <td>2018.247654</td>\n",
       "      <td>6.592718</td>\n",
       "      <td>15.064819</td>\n",
       "    </tr>\n",
       "    <tr>\n",
       "      <th>std</th>\n",
       "      <td>1698.360788</td>\n",
       "      <td>20734.819988</td>\n",
       "      <td>135.058707</td>\n",
       "      <td>5.109982</td>\n",
       "      <td>0.545261</td>\n",
       "      <td>3.598781</td>\n",
       "      <td>8.788845</td>\n",
       "    </tr>\n",
       "    <tr>\n",
       "      <th>min</th>\n",
       "      <td>12346.000000</td>\n",
       "      <td>489434.000000</td>\n",
       "      <td>-53594.360000</td>\n",
       "      <td>0.000000</td>\n",
       "      <td>2017.000000</td>\n",
       "      <td>1.000000</td>\n",
       "      <td>1.000000</td>\n",
       "    </tr>\n",
       "    <tr>\n",
       "      <th>25%</th>\n",
       "      <td>13956.000000</td>\n",
       "      <td>509031.000000</td>\n",
       "      <td>1.250000</td>\n",
       "      <td>1.000000</td>\n",
       "      <td>2018.000000</td>\n",
       "      <td>3.000000</td>\n",
       "      <td>7.000000</td>\n",
       "    </tr>\n",
       "    <tr>\n",
       "      <th>50%</th>\n",
       "      <td>15279.000000</td>\n",
       "      <td>528383.000000</td>\n",
       "      <td>2.100000</td>\n",
       "      <td>3.000000</td>\n",
       "      <td>2018.000000</td>\n",
       "      <td>6.000000</td>\n",
       "      <td>15.000000</td>\n",
       "    </tr>\n",
       "    <tr>\n",
       "      <th>75%</th>\n",
       "      <td>16813.000000</td>\n",
       "      <td>543527.000000</td>\n",
       "      <td>4.210000</td>\n",
       "      <td>8.000000</td>\n",
       "      <td>2019.000000</td>\n",
       "      <td>10.000000</td>\n",
       "      <td>23.000000</td>\n",
       "    </tr>\n",
       "    <tr>\n",
       "      <th>max</th>\n",
       "      <td>18287.000000</td>\n",
       "      <td>562271.000000</td>\n",
       "      <td>38970.000000</td>\n",
       "      <td>24.000000</td>\n",
       "      <td>2019.000000</td>\n",
       "      <td>12.000000</td>\n",
       "      <td>31.000000</td>\n",
       "    </tr>\n",
       "  </tbody>\n",
       "</table>\n",
       "</div>"
      ],
      "text/plain": [
       "         customer_id        invoice    total_price   times_viewed  \\\n",
       "count  625249.000000  815011.000000  815011.000000  815011.000000   \n",
       "mean    15333.415068  526773.221948       4.802631       5.231106   \n",
       "std      1698.360788   20734.819988     135.058707       5.109982   \n",
       "min     12346.000000  489434.000000  -53594.360000       0.000000   \n",
       "25%     13956.000000  509031.000000       1.250000       1.000000   \n",
       "50%     15279.000000  528383.000000       2.100000       3.000000   \n",
       "75%     16813.000000  543527.000000       4.210000       8.000000   \n",
       "max     18287.000000  562271.000000   38970.000000      24.000000   \n",
       "\n",
       "                year          month            day  \n",
       "count  815011.000000  815011.000000  815011.000000  \n",
       "mean     2018.247654       6.592718      15.064819  \n",
       "std         0.545261       3.598781       8.788845  \n",
       "min      2017.000000       1.000000       1.000000  \n",
       "25%      2018.000000       3.000000       7.000000  \n",
       "50%      2018.000000       6.000000      15.000000  \n",
       "75%      2019.000000      10.000000      23.000000  \n",
       "max      2019.000000      12.000000      31.000000  "
      ]
     },
     "execution_count": 454,
     "metadata": {},
     "output_type": "execute_result"
    }
   ],
   "source": [
    "appended_data.describe()"
   ]
  },
  {
   "cell_type": "code",
   "execution_count": 455,
   "metadata": {},
   "outputs": [
    {
     "name": "stdout",
     "output_type": "stream",
     "text": [
      "Unique values stream_id = 5007\n",
      "Unique values country = 43\n",
      "Unique values customer_id = 5225\n",
      "Unique values invoice = 42646\n"
     ]
    }
   ],
   "source": [
    "print(\"Unique values stream_id =\",  appended_data['stream_id'].nunique())\n",
    "print(\"Unique values country =\",  appended_data['country'].nunique())\n",
    "print(\"Unique values customer_id =\",  appended_data['customer_id'].nunique())\n",
    "print(\"Unique values invoice =\",  appended_data['invoice'].nunique())"
   ]
  },
  {
   "cell_type": "code",
   "execution_count": 456,
   "metadata": {},
   "outputs": [
    {
     "data": {
      "text/html": [
       "<div>\n",
       "<style scoped>\n",
       "    .dataframe tbody tr th:only-of-type {\n",
       "        vertical-align: middle;\n",
       "    }\n",
       "\n",
       "    .dataframe tbody tr th {\n",
       "        vertical-align: top;\n",
       "    }\n",
       "\n",
       "    .dataframe thead th {\n",
       "        text-align: right;\n",
       "    }\n",
       "</style>\n",
       "<table border=\"1\" class=\"dataframe\">\n",
       "  <thead>\n",
       "    <tr style=\"text-align: right;\">\n",
       "      <th></th>\n",
       "      <th>total_price</th>\n",
       "      <th>times_viewed</th>\n",
       "    </tr>\n",
       "    <tr>\n",
       "      <th>country</th>\n",
       "      <th></th>\n",
       "      <th></th>\n",
       "    </tr>\n",
       "  </thead>\n",
       "  <tbody>\n",
       "    <tr>\n",
       "      <th>United Kingdom</th>\n",
       "      <td>3.521514e+06</td>\n",
       "      <td>3725703</td>\n",
       "    </tr>\n",
       "    <tr>\n",
       "      <th>EIRE</th>\n",
       "      <td>1.070692e+05</td>\n",
       "      <td>111636</td>\n",
       "    </tr>\n",
       "    <tr>\n",
       "      <th>Germany</th>\n",
       "      <td>4.927182e+04</td>\n",
       "      <td>112618</td>\n",
       "    </tr>\n",
       "    <tr>\n",
       "      <th>France</th>\n",
       "      <td>4.056514e+04</td>\n",
       "      <td>83124</td>\n",
       "    </tr>\n",
       "    <tr>\n",
       "      <th>Norway</th>\n",
       "      <td>3.849475e+04</td>\n",
       "      <td>7881</td>\n",
       "    </tr>\n",
       "    <tr>\n",
       "      <th>Spain</th>\n",
       "      <td>1.604099e+04</td>\n",
       "      <td>19573</td>\n",
       "    </tr>\n",
       "    <tr>\n",
       "      <th>Hong Kong</th>\n",
       "      <td>1.445257e+04</td>\n",
       "      <td>2635</td>\n",
       "    </tr>\n",
       "    <tr>\n",
       "      <th>Portugal</th>\n",
       "      <td>1.352867e+04</td>\n",
       "      <td>14195</td>\n",
       "    </tr>\n",
       "    <tr>\n",
       "      <th>Singapore</th>\n",
       "      <td>1.317592e+04</td>\n",
       "      <td>3042</td>\n",
       "    </tr>\n",
       "    <tr>\n",
       "      <th>Netherlands</th>\n",
       "      <td>1.232280e+04</td>\n",
       "      <td>39619</td>\n",
       "    </tr>\n",
       "    <tr>\n",
       "      <th>Belgium</th>\n",
       "      <td>1.119061e+04</td>\n",
       "      <td>17733</td>\n",
       "    </tr>\n",
       "    <tr>\n",
       "      <th>Switzerland</th>\n",
       "      <td>9.284050e+03</td>\n",
       "      <td>21023</td>\n",
       "    </tr>\n",
       "  </tbody>\n",
       "</table>\n",
       "</div>"
      ],
      "text/plain": [
       "                 total_price  times_viewed\n",
       "country                                   \n",
       "United Kingdom  3.521514e+06       3725703\n",
       "EIRE            1.070692e+05        111636\n",
       "Germany         4.927182e+04        112618\n",
       "France          4.056514e+04         83124\n",
       "Norway          3.849475e+04          7881\n",
       "Spain           1.604099e+04         19573\n",
       "Hong Kong       1.445257e+04          2635\n",
       "Portugal        1.352867e+04         14195\n",
       "Singapore       1.317592e+04          3042\n",
       "Netherlands     1.232280e+04         39619\n",
       "Belgium         1.119061e+04         17733\n",
       "Switzerland     9.284050e+03         21023"
      ]
     },
     "execution_count": 456,
     "metadata": {},
     "output_type": "execute_result"
    }
   ],
   "source": [
    "Top10countries = appended_data.groupby(by=[\"country\"]).sum()\n",
    "Top10countries = Top10countries.sort_values(by=['total_price'], ascending=False)\n",
    "Top10countries = Top10countries.drop(columns=['customer_id', 'invoice', 'year', 'month', 'day'])\n",
    "Top10countries.head(12)"
   ]
  },
  {
   "cell_type": "code",
   "execution_count": 457,
   "metadata": {},
   "outputs": [
    {
     "name": "stdout",
     "output_type": "stream",
     "text": [
      "['Belgium', 'Switzerland', 'Sweden', 'Channel Islands', 'Australia', 'Malta', 'Italy', 'Cyprus', 'Austria', 'Finland', 'RSA', 'Unspecified', 'Greece', 'United Arab Emirates', 'Denmark', 'Poland', 'USA', 'Japan', 'Canada', 'Iceland', 'Lithuania', 'Israel', 'Bahrain', 'Lebanon', 'European Community', 'Brazil', 'Thailand', 'Korea', 'West Indies', 'Nigeria', 'Bermuda', 'Czech Republic', 'Saudi Arabia']\n"
     ]
    }
   ],
   "source": [
    "n = 10\n",
    "notintop10 = Top10countries.index.values.tolist()\n",
    "del notintop10[:n]\n",
    "print(notintop10)"
   ]
  },
  {
   "cell_type": "code",
   "execution_count": 458,
   "metadata": {},
   "outputs": [
    {
     "data": {
      "text/html": [
       "<div>\n",
       "<style scoped>\n",
       "    .dataframe tbody tr th:only-of-type {\n",
       "        vertical-align: middle;\n",
       "    }\n",
       "\n",
       "    .dataframe tbody tr th {\n",
       "        vertical-align: top;\n",
       "    }\n",
       "\n",
       "    .dataframe thead th {\n",
       "        text-align: right;\n",
       "    }\n",
       "</style>\n",
       "<table border=\"1\" class=\"dataframe\">\n",
       "  <thead>\n",
       "    <tr style=\"text-align: right;\">\n",
       "      <th></th>\n",
       "      <th>country</th>\n",
       "      <th>customer_id</th>\n",
       "      <th>invoice</th>\n",
       "      <th>total_price</th>\n",
       "      <th>stream_id</th>\n",
       "      <th>times_viewed</th>\n",
       "      <th>year</th>\n",
       "      <th>month</th>\n",
       "      <th>day</th>\n",
       "      <th>date</th>\n",
       "    </tr>\n",
       "  </thead>\n",
       "  <tbody>\n",
       "    <tr>\n",
       "      <th>0</th>\n",
       "      <td>United Kingdom</td>\n",
       "      <td>15581.0</td>\n",
       "      <td>493463</td>\n",
       "      <td>2.95</td>\n",
       "      <td>20895</td>\n",
       "      <td>1</td>\n",
       "      <td>2018</td>\n",
       "      <td>1</td>\n",
       "      <td>1</td>\n",
       "      <td>2018-01-01</td>\n",
       "    </tr>\n",
       "    <tr>\n",
       "      <th>1</th>\n",
       "      <td>United Kingdom</td>\n",
       "      <td>15581.0</td>\n",
       "      <td>493463</td>\n",
       "      <td>1.25</td>\n",
       "      <td>20866</td>\n",
       "      <td>1</td>\n",
       "      <td>2018</td>\n",
       "      <td>1</td>\n",
       "      <td>1</td>\n",
       "      <td>2018-01-01</td>\n",
       "    </tr>\n",
       "    <tr>\n",
       "      <th>2</th>\n",
       "      <td>United Kingdom</td>\n",
       "      <td>15581.0</td>\n",
       "      <td>493463</td>\n",
       "      <td>0.85</td>\n",
       "      <td>85198</td>\n",
       "      <td>12</td>\n",
       "      <td>2018</td>\n",
       "      <td>1</td>\n",
       "      <td>1</td>\n",
       "      <td>2018-01-01</td>\n",
       "    </tr>\n",
       "    <tr>\n",
       "      <th>3</th>\n",
       "      <td>United Kingdom</td>\n",
       "      <td>15581.0</td>\n",
       "      <td>493463</td>\n",
       "      <td>2.95</td>\n",
       "      <td>20897</td>\n",
       "      <td>1</td>\n",
       "      <td>2018</td>\n",
       "      <td>1</td>\n",
       "      <td>1</td>\n",
       "      <td>2018-01-01</td>\n",
       "    </tr>\n",
       "    <tr>\n",
       "      <th>4</th>\n",
       "      <td>United Kingdom</td>\n",
       "      <td>15581.0</td>\n",
       "      <td>493463</td>\n",
       "      <td>2.95</td>\n",
       "      <td>20898</td>\n",
       "      <td>1</td>\n",
       "      <td>2018</td>\n",
       "      <td>1</td>\n",
       "      <td>1</td>\n",
       "      <td>2018-01-01</td>\n",
       "    </tr>\n",
       "    <tr>\n",
       "      <th>...</th>\n",
       "      <td>...</td>\n",
       "      <td>...</td>\n",
       "      <td>...</td>\n",
       "      <td>...</td>\n",
       "      <td>...</td>\n",
       "      <td>...</td>\n",
       "      <td>...</td>\n",
       "      <td>...</td>\n",
       "      <td>...</td>\n",
       "      <td>...</td>\n",
       "    </tr>\n",
       "    <tr>\n",
       "      <th>35050</th>\n",
       "      <td>United Kingdom</td>\n",
       "      <td>13269.0</td>\n",
       "      <td>548708</td>\n",
       "      <td>4.95</td>\n",
       "      <td>23184</td>\n",
       "      <td>2</td>\n",
       "      <td>2019</td>\n",
       "      <td>3</td>\n",
       "      <td>31</td>\n",
       "      <td>2019-03-31</td>\n",
       "    </tr>\n",
       "    <tr>\n",
       "      <th>35051</th>\n",
       "      <td>United Kingdom</td>\n",
       "      <td>13269.0</td>\n",
       "      <td>548708</td>\n",
       "      <td>1.25</td>\n",
       "      <td>47310M</td>\n",
       "      <td>1</td>\n",
       "      <td>2019</td>\n",
       "      <td>3</td>\n",
       "      <td>31</td>\n",
       "      <td>2019-03-31</td>\n",
       "    </tr>\n",
       "    <tr>\n",
       "      <th>35052</th>\n",
       "      <td>United Kingdom</td>\n",
       "      <td>13269.0</td>\n",
       "      <td>548708</td>\n",
       "      <td>0.42</td>\n",
       "      <td>79190B</td>\n",
       "      <td>9</td>\n",
       "      <td>2019</td>\n",
       "      <td>3</td>\n",
       "      <td>31</td>\n",
       "      <td>2019-03-31</td>\n",
       "    </tr>\n",
       "    <tr>\n",
       "      <th>35053</th>\n",
       "      <td>United Kingdom</td>\n",
       "      <td>13269.0</td>\n",
       "      <td>548708</td>\n",
       "      <td>1.65</td>\n",
       "      <td>22859</td>\n",
       "      <td>1</td>\n",
       "      <td>2019</td>\n",
       "      <td>3</td>\n",
       "      <td>31</td>\n",
       "      <td>2019-03-31</td>\n",
       "    </tr>\n",
       "    <tr>\n",
       "      <th>35054</th>\n",
       "      <td>United Kingdom</td>\n",
       "      <td>13269.0</td>\n",
       "      <td>548708</td>\n",
       "      <td>2.95</td>\n",
       "      <td>85123A</td>\n",
       "      <td>3</td>\n",
       "      <td>2019</td>\n",
       "      <td>3</td>\n",
       "      <td>31</td>\n",
       "      <td>2019-03-31</td>\n",
       "    </tr>\n",
       "  </tbody>\n",
       "</table>\n",
       "<p>567448 rows × 10 columns</p>\n",
       "</div>"
      ],
      "text/plain": [
       "              country  customer_id  invoice  total_price stream_id  \\\n",
       "0      United Kingdom      15581.0   493463         2.95     20895   \n",
       "1      United Kingdom      15581.0   493463         1.25     20866   \n",
       "2      United Kingdom      15581.0   493463         0.85     85198   \n",
       "3      United Kingdom      15581.0   493463         2.95     20897   \n",
       "4      United Kingdom      15581.0   493463         2.95     20898   \n",
       "...               ...          ...      ...          ...       ...   \n",
       "35050  United Kingdom      13269.0   548708         4.95     23184   \n",
       "35051  United Kingdom      13269.0   548708         1.25    47310M   \n",
       "35052  United Kingdom      13269.0   548708         0.42    79190B   \n",
       "35053  United Kingdom      13269.0   548708         1.65     22859   \n",
       "35054  United Kingdom      13269.0   548708         2.95    85123A   \n",
       "\n",
       "       times_viewed  year  month  day       date  \n",
       "0                 1  2018      1    1 2018-01-01  \n",
       "1                 1  2018      1    1 2018-01-01  \n",
       "2                12  2018      1    1 2018-01-01  \n",
       "3                 1  2018      1    1 2018-01-01  \n",
       "4                 1  2018      1    1 2018-01-01  \n",
       "...             ...   ...    ...  ...        ...  \n",
       "35050             2  2019      3   31 2019-03-31  \n",
       "35051             1  2019      3   31 2019-03-31  \n",
       "35052             9  2019      3   31 2019-03-31  \n",
       "35053             1  2019      3   31 2019-03-31  \n",
       "35054             3  2019      3   31 2019-03-31  \n",
       "\n",
       "[567448 rows x 10 columns]"
      ]
     },
     "execution_count": 458,
     "metadata": {},
     "output_type": "execute_result"
    }
   ],
   "source": [
    "appended_data_top10 = appended_data\n",
    "for c in notintop10:\n",
    "    indexNames = appended_data_top10[(appended_data_top10['country'] == c)].index\n",
    "    appended_data_top10.drop(indexNames , inplace=True)\n",
    "appended_data_top10"
   ]
  },
  {
   "cell_type": "code",
   "execution_count": 459,
   "metadata": {},
   "outputs": [
    {
     "name": "stdout",
     "output_type": "stream",
     "text": [
      "Unique values stream_id = 4872\n",
      "Unique values country = 10\n",
      "Unique values customer_id = 4902\n",
      "Unique values invoice = 36246\n"
     ]
    },
    {
     "data": {
      "text/plain": [
       "array(['United Kingdom', 'Germany', 'EIRE', 'France', 'Spain',\n",
       "       'Netherlands', 'Portugal', 'Norway', 'Hong Kong', 'Singapore'],\n",
       "      dtype=object)"
      ]
     },
     "execution_count": 459,
     "metadata": {},
     "output_type": "execute_result"
    }
   ],
   "source": [
    "print(\"Unique values stream_id =\",  appended_data['stream_id'].nunique())\n",
    "print(\"Unique values country =\",  appended_data['country'].nunique())\n",
    "print(\"Unique values customer_id =\",  appended_data['customer_id'].nunique())\n",
    "print(\"Unique values invoice =\",  appended_data['invoice'].nunique())\n",
    "\n",
    "appended_data.country.unique()"
   ]
  },
  {
   "cell_type": "code",
   "execution_count": 460,
   "metadata": {},
   "outputs": [
    {
     "data": {
      "text/html": [
       "<div>\n",
       "<style scoped>\n",
       "    .dataframe tbody tr th:only-of-type {\n",
       "        vertical-align: middle;\n",
       "    }\n",
       "\n",
       "    .dataframe tbody tr th {\n",
       "        vertical-align: top;\n",
       "    }\n",
       "\n",
       "    .dataframe thead th {\n",
       "        text-align: right;\n",
       "    }\n",
       "</style>\n",
       "<table border=\"1\" class=\"dataframe\">\n",
       "  <thead>\n",
       "    <tr style=\"text-align: right;\">\n",
       "      <th></th>\n",
       "      <th>country</th>\n",
       "      <th>date</th>\n",
       "      <th>year</th>\n",
       "      <th>month</th>\n",
       "      <th>day</th>\n",
       "      <th>total_price</th>\n",
       "      <th>times_viewed</th>\n",
       "    </tr>\n",
       "  </thead>\n",
       "  <tbody>\n",
       "    <tr>\n",
       "      <th>0</th>\n",
       "      <td>EIRE</td>\n",
       "      <td>2017-04-12</td>\n",
       "      <td>2017</td>\n",
       "      <td>12</td>\n",
       "      <td>4</td>\n",
       "      <td>181.65</td>\n",
       "      <td>86</td>\n",
       "    </tr>\n",
       "    <tr>\n",
       "      <th>1</th>\n",
       "      <td>EIRE</td>\n",
       "      <td>2017-05-12</td>\n",
       "      <td>2017</td>\n",
       "      <td>12</td>\n",
       "      <td>5</td>\n",
       "      <td>87.40</td>\n",
       "      <td>244</td>\n",
       "    </tr>\n",
       "    <tr>\n",
       "      <th>2</th>\n",
       "      <td>EIRE</td>\n",
       "      <td>2017-07-12</td>\n",
       "      <td>2017</td>\n",
       "      <td>12</td>\n",
       "      <td>7</td>\n",
       "      <td>25.22</td>\n",
       "      <td>28</td>\n",
       "    </tr>\n",
       "    <tr>\n",
       "      <th>3</th>\n",
       "      <td>EIRE</td>\n",
       "      <td>2017-08-12</td>\n",
       "      <td>2017</td>\n",
       "      <td>12</td>\n",
       "      <td>8</td>\n",
       "      <td>20.90</td>\n",
       "      <td>7</td>\n",
       "    </tr>\n",
       "    <tr>\n",
       "      <th>4</th>\n",
       "      <td>EIRE</td>\n",
       "      <td>2017-10-12</td>\n",
       "      <td>2017</td>\n",
       "      <td>12</td>\n",
       "      <td>10</td>\n",
       "      <td>2.74</td>\n",
       "      <td>21</td>\n",
       "    </tr>\n",
       "    <tr>\n",
       "      <th>5</th>\n",
       "      <td>EIRE</td>\n",
       "      <td>2017-11-12</td>\n",
       "      <td>2017</td>\n",
       "      <td>12</td>\n",
       "      <td>11</td>\n",
       "      <td>17.70</td>\n",
       "      <td>7</td>\n",
       "    </tr>\n",
       "    <tr>\n",
       "      <th>6</th>\n",
       "      <td>EIRE</td>\n",
       "      <td>2017-11-28</td>\n",
       "      <td>2017</td>\n",
       "      <td>11</td>\n",
       "      <td>28</td>\n",
       "      <td>331.19</td>\n",
       "      <td>464</td>\n",
       "    </tr>\n",
       "    <tr>\n",
       "      <th>7</th>\n",
       "      <td>EIRE</td>\n",
       "      <td>2017-11-30</td>\n",
       "      <td>2017</td>\n",
       "      <td>11</td>\n",
       "      <td>30</td>\n",
       "      <td>147.02</td>\n",
       "      <td>143</td>\n",
       "    </tr>\n",
       "    <tr>\n",
       "      <th>8</th>\n",
       "      <td>EIRE</td>\n",
       "      <td>2017-12-12</td>\n",
       "      <td>2017</td>\n",
       "      <td>12</td>\n",
       "      <td>12</td>\n",
       "      <td>289.46</td>\n",
       "      <td>418</td>\n",
       "    </tr>\n",
       "    <tr>\n",
       "      <th>9</th>\n",
       "      <td>EIRE</td>\n",
       "      <td>2017-12-13</td>\n",
       "      <td>2017</td>\n",
       "      <td>12</td>\n",
       "      <td>13</td>\n",
       "      <td>104.41</td>\n",
       "      <td>212</td>\n",
       "    </tr>\n",
       "  </tbody>\n",
       "</table>\n",
       "</div>"
      ],
      "text/plain": [
       "  country       date  year  month  day  total_price  times_viewed\n",
       "0    EIRE 2017-04-12  2017     12    4       181.65            86\n",
       "1    EIRE 2017-05-12  2017     12    5        87.40           244\n",
       "2    EIRE 2017-07-12  2017     12    7        25.22            28\n",
       "3    EIRE 2017-08-12  2017     12    8        20.90             7\n",
       "4    EIRE 2017-10-12  2017     12   10         2.74            21\n",
       "5    EIRE 2017-11-12  2017     12   11        17.70             7\n",
       "6    EIRE 2017-11-28  2017     11   28       331.19           464\n",
       "7    EIRE 2017-11-30  2017     11   30       147.02           143\n",
       "8    EIRE 2017-12-12  2017     12   12       289.46           418\n",
       "9    EIRE 2017-12-13  2017     12   13       104.41           212"
      ]
     },
     "execution_count": 460,
     "metadata": {},
     "output_type": "execute_result"
    }
   ],
   "source": [
    "grouped_data = appended_data_top10.groupby(by=['country', 'date', 'year', 'month', 'day']).sum()\n",
    "grouped_data = grouped_data.drop(columns=['invoice', 'customer_id'])\n",
    "grouped_data.reset_index(inplace=True)\n",
    "grouped_data.head(10)"
   ]
  },
  {
   "cell_type": "code",
   "execution_count": 461,
   "metadata": {},
   "outputs": [
    {
     "data": {
      "image/png": "[encoded data removed]",
      "text/plain": [
       "<Figure size 432x288 with 1 Axes>"
      ]
     },
     "metadata": {},
     "output_type": "display_data"
    },
    {
     "data": {
      "image/png": "[encoded data removed]",
      "text/plain": [
       "<Figure size 432x288 with 1 Axes>"
      ]
     },
     "metadata": {},
     "output_type": "display_data"
    },
    {
     "data": {
      "image/png": "[encoded data removed]",
      "text/plain": [
       "<Figure size 432x288 with 1 Axes>"
      ]
     },
     "metadata": {},
     "output_type": "display_data"
    },
    {
     "data": {
      "image/png": "[encoded data removed]",
      "text/plain": [
       "<Figure size 432x288 with 1 Axes>"
      ]
     },
     "metadata": {},
     "output_type": "display_data"
    },
    {
     "data": {
      "image/png": "[encoded data removed]",
      "text/plain": [
       "<Figure size 432x288 with 1 Axes>"
      ]
     },
     "metadata": {},
     "output_type": "display_data"
    },
    {
     "data": {
      "image/png": "[encoded data removed]",
      "text/plain": [
       "<Figure size 432x288 with 1 Axes>"
      ]
     },
     "metadata": {},
     "output_type": "display_data"
    },
    {
     "data": {
      "image/png": "[encoded data removed]",
      "text/plain": [
       "<Figure size 432x288 with 1 Axes>"
      ]
     },
     "metadata": {},
     "output_type": "display_data"
    },
    {
     "data": {
      "image/png": "[encoded data removed]",
      "text/plain": [
       "<Figure size 432x288 with 1 Axes>"
      ]
     },
     "metadata": {},
     "output_type": "display_data"
    },
    {
     "data": {
      "image/png": "[encoded data removed]",
      "text/plain": [
       "<Figure size 432x288 with 1 Axes>"
      ]
     },
     "metadata": {},
     "output_type": "display_data"
    },
    {
     "data": {
      "image/png": "[encoded data removed]",
      "text/plain": [
       "<Figure size 432x288 with 1 Axes>"
      ]
     },
     "metadata": {},
     "output_type": "display_data"
    }
   ],
   "source": [
    "for country in grouped_data['country'].unique():\n",
    "     grouped_data[grouped_data['country']==country].sort_values('date').plot.line(x='date',\n",
    "                                                              y='total_price',\n",
    "                                                              title=country)"
   ]
  },
  {
   "cell_type": "code",
   "execution_count": 462,
   "metadata": {},
   "outputs": [],
   "source": [
    "grouped = grouped_data.groupby(grouped_data.country) \n",
    "df_UK = grouped.get_group(\"United Kingdom\") \n",
    "df_EIRE = grouped.get_group(\"EIRE\")\n",
    "df_Germany = grouped.get_group(\"Germany\")\n",
    "df_France = grouped.get_group(\"France\")\n",
    "df_Spain = grouped.get_group(\"Spain\")\n",
    "df_NL = grouped.get_group(\"Netherlands\")\n",
    "df_Portugal = grouped.get_group(\"Portugal\")\n",
    "df_Norway = grouped.get_group(\"Norway\")\n",
    "df_HK = grouped.get_group(\"Hong Kong\")\n",
    "df_Singh = grouped.get_group(\"Singapore\")"
   ]
  },
  {
   "cell_type": "code",
   "execution_count": 463,
   "metadata": {},
   "outputs": [],
   "source": [
    "df_UK[\"yearmonth\"] = df_UK[\"month\"].astype(str) + '-' + df_UK[\"year\"].astype(str)\n",
    "df_UK['yearmonth']= pd.to_datetime(df_UK['yearmonth'])\n",
    "df_UK = df_UK.groupby(by=[\"yearmonth\"]).sum()\n",
    "\n",
    "df_EIRE[\"yearmonth\"] = df_EIRE[\"month\"].astype(str) + '-' + df_EIRE[\"year\"].astype(str)\n",
    "df_EIRE['yearmonth']= pd.to_datetime(df_EIRE['yearmonth'])\n",
    "df_EIRE = df_EIRE.groupby(by=[\"yearmonth\"]).sum()\n",
    "\n",
    "df_Germany[\"yearmonth\"] = df_Germany[\"month\"].astype(str) + '-' + df_Germany[\"year\"].astype(str)\n",
    "df_Germany['yearmonth']= pd.to_datetime(df_Germany['yearmonth'])\n",
    "df_Germany = df_Germany.groupby(by=[\"yearmonth\"]).sum()\n",
    "\n",
    "df_France[\"yearmonth\"] = df_France[\"month\"].astype(str) + '-' + df_France[\"year\"].astype(str)\n",
    "df_France['yearmonth']= pd.to_datetime(df_France['yearmonth'])\n",
    "df_France = df_France.groupby(by=[\"yearmonth\"]).sum()\n",
    "\n",
    "df_Spain[\"yearmonth\"] = df_Spain[\"month\"].astype(str) + '-' + df_Spain[\"year\"].astype(str)\n",
    "df_Spain['yearmonth']= pd.to_datetime(df_Spain['yearmonth'])\n",
    "df_Spain = df_Spain.groupby(by=[\"yearmonth\"]).sum()\n",
    "\n",
    "df_NL[\"yearmonth\"] = df_NL[\"month\"].astype(str) + '-' + df_NL[\"year\"].astype(str)\n",
    "df_NL['yearmonth']= pd.to_datetime(df_NL['yearmonth'])\n",
    "df_NL = df_NL.groupby(by=[\"yearmonth\"]).sum()\n",
    "\n",
    "df_Portugal[\"yearmonth\"] = df_Portugal[\"month\"].astype(str) + '-' + df_Portugal[\"year\"].astype(str)\n",
    "df_Portugal['yearmonth']= pd.to_datetime(df_Portugal['yearmonth'])\n",
    "df_Portugal = df_Portugal.groupby(by=[\"yearmonth\"]).sum()\n",
    "\n",
    "df_Norway[\"yearmonth\"] = df_Norway[\"month\"].astype(str) + '-' + df_Norway[\"year\"].astype(str)\n",
    "df_Norway['yearmonth']= pd.to_datetime(df_Norway['yearmonth'])\n",
    "df_Norway = df_Norway.groupby(by=[\"yearmonth\"]).sum()\n",
    "\n",
    "df_HK[\"yearmonth\"] = df_HK[\"month\"].astype(str) + '-' + df_HK[\"year\"].astype(str)\n",
    "df_HK['yearmonth']= pd.to_datetime(df_HK['yearmonth'])\n",
    "df_HK = df_HK.groupby(by=[\"yearmonth\"]).sum()\n",
    "\n",
    "df_Singh[\"yearmonth\"] = df_Singh[\"month\"].astype(str) + '-' + df_Singh[\"year\"].astype(str)\n",
    "df_Singh['yearmonth']= pd.to_datetime(df_Singh['yearmonth'])\n",
    "df_Singh = df_Singh.groupby(by=[\"yearmonth\"]).sum()"
   ]
  },
  {
   "cell_type": "code",
   "execution_count": 464,
   "metadata": {},
   "outputs": [
    {
     "data": {
      "text/html": [
       "<div>\n",
       "<style scoped>\n",
       "    .dataframe tbody tr th:only-of-type {\n",
       "        vertical-align: middle;\n",
       "    }\n",
       "\n",
       "    .dataframe tbody tr th {\n",
       "        vertical-align: top;\n",
       "    }\n",
       "\n",
       "    .dataframe thead th {\n",
       "        text-align: right;\n",
       "    }\n",
       "</style>\n",
       "<table border=\"1\" class=\"dataframe\">\n",
       "  <thead>\n",
       "    <tr style=\"text-align: right;\">\n",
       "      <th></th>\n",
       "      <th>yearmonth</th>\n",
       "      <th>year</th>\n",
       "      <th>month</th>\n",
       "      <th>day</th>\n",
       "      <th>total_price</th>\n",
       "      <th>times_viewed</th>\n",
       "    </tr>\n",
       "  </thead>\n",
       "  <tbody>\n",
       "    <tr>\n",
       "      <th>0</th>\n",
       "      <td>2017-11-01</td>\n",
       "      <td>6051</td>\n",
       "      <td>33</td>\n",
       "      <td>87</td>\n",
       "      <td>26481.670</td>\n",
       "      <td>27017</td>\n",
       "    </tr>\n",
       "    <tr>\n",
       "      <th>1</th>\n",
       "      <td>2017-12-01</td>\n",
       "      <td>36306</td>\n",
       "      <td>216</td>\n",
       "      <td>185</td>\n",
       "      <td>98676.460</td>\n",
       "      <td>100658</td>\n",
       "    </tr>\n",
       "    <tr>\n",
       "      <th>2</th>\n",
       "      <td>2018-01-01</td>\n",
       "      <td>54486</td>\n",
       "      <td>27</td>\n",
       "      <td>430</td>\n",
       "      <td>113260.833</td>\n",
       "      <td>104815</td>\n",
       "    </tr>\n",
       "    <tr>\n",
       "      <th>3</th>\n",
       "      <td>2018-02-01</td>\n",
       "      <td>48432</td>\n",
       "      <td>48</td>\n",
       "      <td>352</td>\n",
       "      <td>70857.423</td>\n",
       "      <td>90806</td>\n",
       "    </tr>\n",
       "    <tr>\n",
       "      <th>4</th>\n",
       "      <td>2018-03-01</td>\n",
       "      <td>50450</td>\n",
       "      <td>75</td>\n",
       "      <td>381</td>\n",
       "      <td>151148.880</td>\n",
       "      <td>125876</td>\n",
       "    </tr>\n",
       "    <tr>\n",
       "      <th>5</th>\n",
       "      <td>2018-04-01</td>\n",
       "      <td>46414</td>\n",
       "      <td>92</td>\n",
       "      <td>362</td>\n",
       "      <td>50790.951</td>\n",
       "      <td>108181</td>\n",
       "    </tr>\n",
       "    <tr>\n",
       "      <th>6</th>\n",
       "      <td>2018-05-01</td>\n",
       "      <td>52468</td>\n",
       "      <td>130</td>\n",
       "      <td>406</td>\n",
       "      <td>94548.730</td>\n",
       "      <td>123255</td>\n",
       "    </tr>\n",
       "    <tr>\n",
       "      <th>7</th>\n",
       "      <td>2018-06-01</td>\n",
       "      <td>50450</td>\n",
       "      <td>150</td>\n",
       "      <td>385</td>\n",
       "      <td>124397.410</td>\n",
       "      <td>122660</td>\n",
       "    </tr>\n",
       "    <tr>\n",
       "      <th>8</th>\n",
       "      <td>2018-07-01</td>\n",
       "      <td>54486</td>\n",
       "      <td>189</td>\n",
       "      <td>426</td>\n",
       "      <td>42404.180</td>\n",
       "      <td>111926</td>\n",
       "    </tr>\n",
       "    <tr>\n",
       "      <th>9</th>\n",
       "      <td>2018-08-01</td>\n",
       "      <td>52468</td>\n",
       "      <td>208</td>\n",
       "      <td>411</td>\n",
       "      <td>79503.480</td>\n",
       "      <td>111302</td>\n",
       "    </tr>\n",
       "    <tr>\n",
       "      <th>10</th>\n",
       "      <td>2018-09-01</td>\n",
       "      <td>50450</td>\n",
       "      <td>225</td>\n",
       "      <td>390</td>\n",
       "      <td>158486.350</td>\n",
       "      <td>149882</td>\n",
       "    </tr>\n",
       "    <tr>\n",
       "      <th>11</th>\n",
       "      <td>2018-10-01</td>\n",
       "      <td>54486</td>\n",
       "      <td>270</td>\n",
       "      <td>430</td>\n",
       "      <td>181648.110</td>\n",
       "      <td>231601</td>\n",
       "    </tr>\n",
       "    <tr>\n",
       "      <th>12</th>\n",
       "      <td>2018-11-01</td>\n",
       "      <td>52468</td>\n",
       "      <td>286</td>\n",
       "      <td>411</td>\n",
       "      <td>268474.381</td>\n",
       "      <td>314932</td>\n",
       "    </tr>\n",
       "    <tr>\n",
       "      <th>13</th>\n",
       "      <td>2018-12-01</td>\n",
       "      <td>34306</td>\n",
       "      <td>204</td>\n",
       "      <td>186</td>\n",
       "      <td>259933.490</td>\n",
       "      <td>142053</td>\n",
       "    </tr>\n",
       "    <tr>\n",
       "      <th>14</th>\n",
       "      <td>2019-01-01</td>\n",
       "      <td>54513</td>\n",
       "      <td>27</td>\n",
       "      <td>434</td>\n",
       "      <td>128178.380</td>\n",
       "      <td>112089</td>\n",
       "    </tr>\n",
       "    <tr>\n",
       "      <th>15</th>\n",
       "      <td>2019-02-01</td>\n",
       "      <td>48456</td>\n",
       "      <td>48</td>\n",
       "      <td>356</td>\n",
       "      <td>84068.580</td>\n",
       "      <td>84578</td>\n",
       "    </tr>\n",
       "    <tr>\n",
       "      <th>16</th>\n",
       "      <td>2019-03-01</td>\n",
       "      <td>52494</td>\n",
       "      <td>78</td>\n",
       "      <td>416</td>\n",
       "      <td>94234.350</td>\n",
       "      <td>109180</td>\n",
       "    </tr>\n",
       "    <tr>\n",
       "      <th>17</th>\n",
       "      <td>2019-04-01</td>\n",
       "      <td>42399</td>\n",
       "      <td>84</td>\n",
       "      <td>282</td>\n",
       "      <td>85861.220</td>\n",
       "      <td>96931</td>\n",
       "    </tr>\n",
       "    <tr>\n",
       "      <th>18</th>\n",
       "      <td>2019-05-01</td>\n",
       "      <td>52494</td>\n",
       "      <td>130</td>\n",
       "      <td>411</td>\n",
       "      <td>105849.590</td>\n",
       "      <td>126917</td>\n",
       "    </tr>\n",
       "    <tr>\n",
       "      <th>19</th>\n",
       "      <td>2019-06-01</td>\n",
       "      <td>50475</td>\n",
       "      <td>150</td>\n",
       "      <td>390</td>\n",
       "      <td>126905.060</td>\n",
       "      <td>106648</td>\n",
       "    </tr>\n",
       "    <tr>\n",
       "      <th>20</th>\n",
       "      <td>2019-07-01</td>\n",
       "      <td>54513</td>\n",
       "      <td>189</td>\n",
       "      <td>430</td>\n",
       "      <td>114602.130</td>\n",
       "      <td>136698</td>\n",
       "    </tr>\n",
       "  </tbody>\n",
       "</table>\n",
       "</div>"
      ],
      "text/plain": [
       "    yearmonth   year  month  day  total_price  times_viewed\n",
       "0  2017-11-01   6051     33   87    26481.670         27017\n",
       "1  2017-12-01  36306    216  185    98676.460        100658\n",
       "2  2018-01-01  54486     27  430   113260.833        104815\n",
       "3  2018-02-01  48432     48  352    70857.423         90806\n",
       "4  2018-03-01  50450     75  381   151148.880        125876\n",
       "5  2018-04-01  46414     92  362    50790.951        108181\n",
       "6  2018-05-01  52468    130  406    94548.730        123255\n",
       "7  2018-06-01  50450    150  385   124397.410        122660\n",
       "8  2018-07-01  54486    189  426    42404.180        111926\n",
       "9  2018-08-01  52468    208  411    79503.480        111302\n",
       "10 2018-09-01  50450    225  390   158486.350        149882\n",
       "11 2018-10-01  54486    270  430   181648.110        231601\n",
       "12 2018-11-01  52468    286  411   268474.381        314932\n",
       "13 2018-12-01  34306    204  186   259933.490        142053\n",
       "14 2019-01-01  54513     27  434   128178.380        112089\n",
       "15 2019-02-01  48456     48  356    84068.580         84578\n",
       "16 2019-03-01  52494     78  416    94234.350        109180\n",
       "17 2019-04-01  42399     84  282    85861.220         96931\n",
       "18 2019-05-01  52494    130  411   105849.590        126917\n",
       "19 2019-06-01  50475    150  390   126905.060        106648\n",
       "20 2019-07-01  54513    189  430   114602.130        136698"
      ]
     },
     "execution_count": 464,
     "metadata": {},
     "output_type": "execute_result"
    }
   ],
   "source": [
    "df_UK.reset_index(inplace=True)\n",
    "df_UK"
   ]
  },
  {
   "cell_type": "markdown",
   "metadata": {},
   "source": [
    "MODELING"
   ]
  },
  {
   "cell_type": "code",
   "execution_count": 465,
   "metadata": {},
   "outputs": [
    {
     "data": {
      "text/plain": [
       "DatetimeIndex(['2017-11-01', '2017-12-01', '2018-01-01', '2018-02-01',\n",
       "               '2018-03-01', '2018-04-01', '2018-05-01', '2018-06-01',\n",
       "               '2018-07-01', '2018-08-01', '2018-09-01', '2018-10-01',\n",
       "               '2018-11-01', '2018-12-01', '2019-01-01', '2019-02-01',\n",
       "               '2019-03-01', '2019-04-01', '2019-05-01', '2019-06-01',\n",
       "               '2019-07-01'],\n",
       "              dtype='datetime64[ns]', name='yearmonth', freq=None)"
      ]
     },
     "execution_count": 465,
     "metadata": {},
     "output_type": "execute_result"
    }
   ],
   "source": [
    "df_UK = df_UK.set_index('yearmonth')\n",
    "df_UK.index"
   ]
  },
  {
   "cell_type": "code",
   "execution_count": 466,
   "metadata": {},
   "outputs": [
    {
     "data": {
      "text/plain": [
       "year            0\n",
       "month           0\n",
       "day             0\n",
       "total_price     0\n",
       "times_viewed    0\n",
       "dtype: int64"
      ]
     },
     "execution_count": 466,
     "metadata": {},
     "output_type": "execute_result"
    }
   ],
   "source": [
    "df_UK.isnull().sum()"
   ]
  },
  {
   "cell_type": "code",
   "execution_count": 467,
   "metadata": {},
   "outputs": [
    {
     "data": {
      "text/plain": [
       "yearmonth\n",
       "2017-11-01     26481.670\n",
       "2017-12-01     98676.460\n",
       "2018-01-01    113260.833\n",
       "2018-02-01     70857.423\n",
       "2018-03-01    151148.880\n",
       "2018-04-01     50790.951\n",
       "2018-05-01     94548.730\n",
       "2018-06-01    124397.410\n",
       "2018-07-01     42404.180\n",
       "2018-08-01     79503.480\n",
       "2018-09-01    158486.350\n",
       "2018-10-01    181648.110\n",
       "2018-11-01    268474.381\n",
       "2018-12-01    259933.490\n",
       "2019-01-01    128178.380\n",
       "2019-02-01     84068.580\n",
       "2019-03-01     94234.350\n",
       "2019-04-01     85861.220\n",
       "2019-05-01    105849.590\n",
       "2019-06-01    126905.060\n",
       "2019-07-01    114602.130\n",
       "Freq: MS, Name: total_price, dtype: float64"
      ]
     },
     "execution_count": 467,
     "metadata": {},
     "output_type": "execute_result"
    }
   ],
   "source": [
    "y = df_UK['total_price'].resample('MS').mean()\n",
    "y['2017':]"
   ]
  },
  {
   "cell_type": "code",
   "execution_count": 468,
   "metadata": {},
   "outputs": [
    {
     "data": {
      "image/png": "[encoded data removed]",
      "text/plain": [
       "<Figure size 1080x432 with 1 Axes>"
      ]
     },
     "metadata": {},
     "output_type": "display_data"
    }
   ],
   "source": [
    "y.plot(figsize=(15, 6))\n",
    "plt.show()"
   ]
  },
  {
   "cell_type": "code",
   "execution_count": 469,
   "metadata": {},
   "outputs": [
    {
     "data": {
      "image/png": "[encoded data removed]",
      "text/plain": [
       "<Figure size 432x288 with 2 Axes>"
      ]
     },
     "metadata": {},
     "output_type": "display_data"
    },
    {
     "data": {
      "image/png": "[encoded data removed]",
      "text/plain": [
       "<Figure size 432x288 with 2 Axes>"
      ]
     },
     "metadata": {},
     "output_type": "display_data"
    }
   ],
   "source": [
    "grouped_datax = pd.get_dummies(grouped_data, columns=['country'], drop_first=True, prefix='country')\n",
    "date_time = pd.to_datetime(grouped_datax.pop('date'), format='%d.%m.%Y %H:%M:%S')\n",
    "plot_cols = ['total_price', 'times_viewed']\n",
    "plot_features = grouped_datax[plot_cols]\n",
    "plot_features.index = date_time\n",
    "_ = plot_features.plot(subplots=True)\n",
    "\n",
    "plot_features = grouped_datax[plot_cols][:480]\n",
    "plot_features.index = date_time[:480]\n",
    "_ = plot_features.plot(subplots=True)\n",
    "\n"
   ]
  },
  {
   "cell_type": "code",
   "execution_count": 470,
   "metadata": {},
   "outputs": [],
   "source": [
    "column_indices = {name: i for i, name in enumerate(grouped_datax.columns)}\n",
    "\n",
    "n = len(grouped_datax)\n",
    "train_df = grouped_datax[0:int(n*0.7)]\n",
    "val_df = grouped_datax[int(n*0.7):int(n*0.9)]\n",
    "test_df = grouped_datax[int(n*0.9):]\n",
    "\n",
    "num_features = grouped_datax.shape[1]"
   ]
  },
  {
   "cell_type": "code",
   "execution_count": 471,
   "metadata": {},
   "outputs": [],
   "source": [
    "train_mean = train_df.mean()\n",
    "train_std = train_df.std()\n",
    "\n",
    "train_df = (train_df - train_mean) / train_std\n",
    "val_df = (val_df - train_mean) / train_std\n",
    "test_df = (test_df - train_mean) / train_std"
   ]
  },
  {
   "cell_type": "code",
   "execution_count": 472,
   "metadata": {},
   "outputs": [
    {
     "data": {
      "image/png": "[encoded data removed]",
      "text/plain": [
       "<Figure size 864x432 with 1 Axes>"
      ]
     },
     "metadata": {},
     "output_type": "display_data"
    }
   ],
   "source": [
    "import seaborn as sns\n",
    "df_std = (grouped_datax - train_mean) / train_std\n",
    "df_std = df_std.melt(var_name='Column', value_name='Normalized')\n",
    "plt.figure(figsize=(12, 6))\n",
    "ax = sns.violinplot(x='Column', y='Normalized', data=df_std)\n",
    "_ = ax.set_xticklabels(grouped_datax.keys(), rotation=90)"
   ]
  },
  {
   "cell_type": "code",
   "execution_count": 473,
   "metadata": {
    "scrolled": false
   },
   "outputs": [
    {
     "data": {
      "text/html": [
       "<div>\n",
       "<style scoped>\n",
       "    .dataframe tbody tr th:only-of-type {\n",
       "        vertical-align: middle;\n",
       "    }\n",
       "\n",
       "    .dataframe tbody tr th {\n",
       "        vertical-align: top;\n",
       "    }\n",
       "\n",
       "    .dataframe thead th {\n",
       "        text-align: right;\n",
       "    }\n",
       "</style>\n",
       "<table border=\"1\" class=\"dataframe\">\n",
       "  <thead>\n",
       "    <tr style=\"text-align: right;\">\n",
       "      <th></th>\n",
       "      <th>year</th>\n",
       "      <th>month</th>\n",
       "      <th>day</th>\n",
       "      <th>total_price</th>\n",
       "      <th>times_viewed</th>\n",
       "      <th>country_France</th>\n",
       "      <th>country_Germany</th>\n",
       "      <th>country_Hong Kong</th>\n",
       "      <th>country_Netherlands</th>\n",
       "      <th>country_Norway</th>\n",
       "      <th>country_Portugal</th>\n",
       "      <th>country_Singapore</th>\n",
       "      <th>country_Spain</th>\n",
       "      <th>country_United Kingdom</th>\n",
       "    </tr>\n",
       "  </thead>\n",
       "  <tbody>\n",
       "    <tr>\n",
       "      <th>1714</th>\n",
       "      <td>2019</td>\n",
       "      <td>3</td>\n",
       "      <td>12</td>\n",
       "      <td>3211.89</td>\n",
       "      <td>3335</td>\n",
       "      <td>0</td>\n",
       "      <td>0</td>\n",
       "      <td>0</td>\n",
       "      <td>0</td>\n",
       "      <td>0</td>\n",
       "      <td>0</td>\n",
       "      <td>0</td>\n",
       "      <td>0</td>\n",
       "      <td>1</td>\n",
       "    </tr>\n",
       "    <tr>\n",
       "      <th>1715</th>\n",
       "      <td>2019</td>\n",
       "      <td>4</td>\n",
       "      <td>12</td>\n",
       "      <td>4765.38</td>\n",
       "      <td>3700</td>\n",
       "      <td>0</td>\n",
       "      <td>0</td>\n",
       "      <td>0</td>\n",
       "      <td>0</td>\n",
       "      <td>0</td>\n",
       "      <td>0</td>\n",
       "      <td>0</td>\n",
       "      <td>0</td>\n",
       "      <td>1</td>\n",
       "    </tr>\n",
       "    <tr>\n",
       "      <th>1716</th>\n",
       "      <td>2019</td>\n",
       "      <td>5</td>\n",
       "      <td>12</td>\n",
       "      <td>1375.65</td>\n",
       "      <td>2075</td>\n",
       "      <td>0</td>\n",
       "      <td>0</td>\n",
       "      <td>0</td>\n",
       "      <td>0</td>\n",
       "      <td>0</td>\n",
       "      <td>0</td>\n",
       "      <td>0</td>\n",
       "      <td>0</td>\n",
       "      <td>1</td>\n",
       "    </tr>\n",
       "    <tr>\n",
       "      <th>1717</th>\n",
       "      <td>2019</td>\n",
       "      <td>6</td>\n",
       "      <td>12</td>\n",
       "      <td>5957.74</td>\n",
       "      <td>5001</td>\n",
       "      <td>0</td>\n",
       "      <td>0</td>\n",
       "      <td>0</td>\n",
       "      <td>0</td>\n",
       "      <td>0</td>\n",
       "      <td>0</td>\n",
       "      <td>0</td>\n",
       "      <td>0</td>\n",
       "      <td>1</td>\n",
       "    </tr>\n",
       "    <tr>\n",
       "      <th>1718</th>\n",
       "      <td>2019</td>\n",
       "      <td>7</td>\n",
       "      <td>12</td>\n",
       "      <td>2736.96</td>\n",
       "      <td>2779</td>\n",
       "      <td>0</td>\n",
       "      <td>0</td>\n",
       "      <td>0</td>\n",
       "      <td>0</td>\n",
       "      <td>0</td>\n",
       "      <td>0</td>\n",
       "      <td>0</td>\n",
       "      <td>0</td>\n",
       "      <td>1</td>\n",
       "    </tr>\n",
       "  </tbody>\n",
       "</table>\n",
       "</div>"
      ],
      "text/plain": [
       "      year  month  day  total_price  times_viewed  country_France  \\\n",
       "1714  2019      3   12      3211.89          3335               0   \n",
       "1715  2019      4   12      4765.38          3700               0   \n",
       "1716  2019      5   12      1375.65          2075               0   \n",
       "1717  2019      6   12      5957.74          5001               0   \n",
       "1718  2019      7   12      2736.96          2779               0   \n",
       "\n",
       "      country_Germany  country_Hong Kong  country_Netherlands  country_Norway  \\\n",
       "1714                0                  0                    0               0   \n",
       "1715                0                  0                    0               0   \n",
       "1716                0                  0                    0               0   \n",
       "1717                0                  0                    0               0   \n",
       "1718                0                  0                    0               0   \n",
       "\n",
       "      country_Portugal  country_Singapore  country_Spain  \\\n",
       "1714                 0                  0              0   \n",
       "1715                 0                  0              0   \n",
       "1716                 0                  0              0   \n",
       "1717                 0                  0              0   \n",
       "1718                 0                  0              0   \n",
       "\n",
       "      country_United Kingdom  \n",
       "1714                       1  \n",
       "1715                       1  \n",
       "1716                       1  \n",
       "1717                       1  \n",
       "1718                       1  "
      ]
     },
     "execution_count": 473,
     "metadata": {},
     "output_type": "execute_result"
    }
   ],
   "source": [
    "grouped_datax.tail()"
   ]
  },
  {
   "cell_type": "code",
   "execution_count": 474,
   "metadata": {},
   "outputs": [],
   "source": [
    "dataset_target = grouped_datax['total_price']\n",
    "dataset_data = grouped_datax\n",
    "\n",
    "X_train, X_test, y_train, y_test = train_test_split(dataset_data, dataset_target, test_size=0.2,  random_state=2)"
   ]
  },
  {
   "cell_type": "markdown",
   "metadata": {},
   "source": [
    "## LSTM Model UK"
   ]
  },
  {
   "cell_type": "code",
   "execution_count": 475,
   "metadata": {},
   "outputs": [
    {
     "name": "stdout",
     "output_type": "stream",
     "text": [
      "0.9870618398025727\n"
     ]
    }
   ],
   "source": [
    "df_UK = df_UK.drop(columns=['year', 'month', 'day'])\n",
    "df_UK.reset_index(inplace=True)\n",
    "df_diff_UK = df_UK.copy()\n",
    "df_diff_UK['prev_sales'] = df_diff_UK['total_price'].shift(1)\n",
    "#drop the null values and calculate the difference\n",
    "df_diff_UK = df_diff_UK.dropna()\n",
    "df_diff_UK['diff'] = (df_diff_UK['total_price'] - df_diff_UK['prev_sales'])\n",
    "#create dataframe for transformation from time series to supervised\n",
    "df_supervised_UK = df_diff_UK.drop(['prev_sales'],axis=1)\n",
    "#adding lags\n",
    "for inc in range(1,13):\n",
    "    field_name = 'lag_' + str(inc)\n",
    "    df_supervised_UK[field_name] = df_supervised_UK['diff'].shift(inc)\n",
    "#drop null values\n",
    "df_supervised_UK = df_supervised_UK.dropna().reset_index(drop=True)\n",
    "\n",
    "# Import statsmodels.formula.api\n",
    "import statsmodels.formula.api as smf\n",
    "# Define the regression formula\n",
    "model = smf.ols(formula='diff ~ lag_1 + lag_2 + lag_3 + lag_4 + lag_5 + lag_6', data=df_supervised)\n",
    "# Fit the regression\n",
    "model_fit = model.fit()\n",
    "# Extract the adjusted r-squared\n",
    "regression_adj_rsq = model_fit.rsquared_adj\n",
    "df_supervised.drop(columns=['lag_7', 'lag_8', 'lag_9', 'lag_10', 'lag_11', 'lag_12'])\n",
    "print(regression_adj_rsq)"
   ]
  },
  {
   "cell_type": "code",
   "execution_count": 476,
   "metadata": {},
   "outputs": [],
   "source": [
    "#import MinMaxScaler and create a new dataframe for LSTM model\n",
    "from sklearn.preprocessing import MinMaxScaler\n",
    "df_model = df_supervised.drop(['total_price','yearmonth'],axis=1)\n",
    "#split train and test set\n",
    "train_set, test_set = df_model[0:-6].values, df_model[-6:].values\n",
    "\n"
   ]
  },
  {
   "cell_type": "code",
   "execution_count": 477,
   "metadata": {},
   "outputs": [],
   "source": [
    "#apply Min Max Scaler\n",
    "scaler = MinMaxScaler(feature_range=(-1, 1))\n",
    "scaler = scaler.fit(train_set)\n",
    "# reshape training set\n",
    "train_set = train_set.reshape(train_set.shape[0], train_set.shape[1])\n",
    "train_set_scaled = scaler.transform(train_set)\n",
    "# reshape test set\n",
    "test_set = test_set.reshape(test_set.shape[0], test_set.shape[1])\n",
    "test_set_scaled = scaler.transform(test_set)"
   ]
  },
  {
   "cell_type": "code",
   "execution_count": 478,
   "metadata": {},
   "outputs": [],
   "source": [
    "X_train, y_train = train_set_scaled[:, 1:], train_set_scaled[:, 0:1]\n",
    "X_train = X_train.reshape(X_train.shape[0], 1, X_train.shape[1])\n",
    "X_test, y_test = test_set_scaled[:, 1:], test_set_scaled[:, 0:1]\n",
    "X_test = X_test.reshape(X_test.shape[0], 1, X_test.shape[1])"
   ]
  },
  {
   "cell_type": "code",
   "execution_count": 479,
   "metadata": {},
   "outputs": [
    {
     "name": "stdout",
     "output_type": "stream",
     "text": [
      "Epoch 1/100\n",
      "2/2 [==============================] - 0s 227ms/step - loss: 1.3207\n",
      "Epoch 2/100\n",
      "2/2 [==============================] - 0s 4ms/step - loss: 1.1790\n",
      "Epoch 3/100\n",
      "2/2 [==============================] - 0s 4ms/step - loss: 1.1281\n",
      "Epoch 4/100\n",
      "2/2 [==============================] - 0s 4ms/step - loss: 1.1030\n",
      "Epoch 5/100\n",
      "2/2 [==============================] - 0s 3ms/step - loss: 1.0866\n",
      "Epoch 6/100\n",
      "2/2 [==============================] - 0s 3ms/step - loss: 1.0737\n",
      "Epoch 7/100\n",
      "2/2 [==============================] - 0s 4ms/step - loss: 1.0623\n",
      "Epoch 8/100\n",
      "2/2 [==============================] - 0s 3ms/step - loss: 1.0517\n",
      "Epoch 9/100\n",
      "2/2 [==============================] - 0s 3ms/step - loss: 1.0416\n",
      "Epoch 10/100\n",
      "2/2 [==============================] - 0s 4ms/step - loss: 1.0322\n",
      "Epoch 11/100\n",
      "2/2 [==============================] - 0s 3ms/step - loss: 1.0234\n",
      "Epoch 12/100\n",
      "2/2 [==============================] - 0s 3ms/step - loss: 1.0151\n",
      "Epoch 13/100\n",
      "2/2 [==============================] - 0s 3ms/step - loss: 1.0075\n",
      "Epoch 14/100\n",
      "2/2 [==============================] - 0s 3ms/step - loss: 1.0005\n",
      "Epoch 15/100\n",
      "2/2 [==============================] - 0s 3ms/step - loss: 0.9942\n",
      "Epoch 16/100\n",
      "2/2 [==============================] - 0s 4ms/step - loss: 0.9885\n",
      "Epoch 17/100\n",
      "2/2 [==============================] - 0s 3ms/step - loss: 0.9835\n",
      "Epoch 18/100\n",
      "2/2 [==============================] - 0s 5ms/step - loss: 0.9792\n",
      "Epoch 19/100\n",
      "2/2 [==============================] - 0s 3ms/step - loss: 0.9756\n",
      "Epoch 20/100\n",
      "2/2 [==============================] - 0s 3ms/step - loss: 0.9726\n",
      "Epoch 21/100\n",
      "2/2 [==============================] - 0s 3ms/step - loss: 0.9704\n",
      "Epoch 22/100\n",
      "2/2 [==============================] - 0s 3ms/step - loss: 0.9687\n",
      "Epoch 23/100\n",
      "2/2 [==============================] - 0s 6ms/step - loss: 0.9678\n",
      "Epoch 24/100\n",
      "2/2 [==============================] - 0s 4ms/step - loss: 0.9674\n",
      "Epoch 25/100\n",
      "2/2 [==============================] - 0s 4ms/step - loss: 0.9676\n",
      "Epoch 26/100\n",
      "2/2 [==============================] - 0s 5ms/step - loss: 0.9683\n",
      "Epoch 27/100\n",
      "2/2 [==============================] - 0s 4ms/step - loss: 0.9696\n",
      "Epoch 28/100\n",
      "2/2 [==============================] - 0s 6ms/step - loss: 0.9713\n",
      "Epoch 29/100\n",
      "2/2 [==============================] - 0s 5ms/step - loss: 0.9734\n",
      "Epoch 30/100\n",
      "2/2 [==============================] - 0s 3ms/step - loss: 0.9758\n",
      "Epoch 31/100\n",
      "2/2 [==============================] - 0s 5ms/step - loss: 0.9786\n",
      "Epoch 32/100\n",
      "2/2 [==============================] - 0s 3ms/step - loss: 0.9815\n",
      "Epoch 33/100\n",
      "2/2 [==============================] - 0s 4ms/step - loss: 0.9844\n",
      "Epoch 34/100\n",
      "2/2 [==============================] - 0s 4ms/step - loss: 0.9875\n",
      "Epoch 35/100\n",
      "2/2 [==============================] - 0s 4ms/step - loss: 0.9905\n",
      "Epoch 36/100\n",
      "2/2 [==============================] - 0s 4ms/step - loss: 0.9933\n",
      "Epoch 37/100\n",
      "2/2 [==============================] - 0s 3ms/step - loss: 0.9958\n",
      "Epoch 38/100\n",
      "2/2 [==============================] - 0s 3ms/step - loss: 0.9980\n",
      "Epoch 39/100\n",
      "2/2 [==============================] - 0s 4ms/step - loss: 0.9998\n",
      "Epoch 40/100\n",
      "2/2 [==============================] - 0s 3ms/step - loss: 1.0011\n",
      "Epoch 41/100\n",
      "2/2 [==============================] - 0s 4ms/step - loss: 1.0018\n",
      "Epoch 42/100\n",
      "2/2 [==============================] - 0s 2ms/step - loss: 1.0019\n",
      "Epoch 43/100\n",
      "2/2 [==============================] - 0s 2ms/step - loss: 1.0013\n",
      "Epoch 44/100\n",
      "2/2 [==============================] - 0s 4ms/step - loss: 0.9999\n",
      "Epoch 45/100\n",
      "2/2 [==============================] - 0s 3ms/step - loss: 0.9979\n",
      "Epoch 46/100\n",
      "2/2 [==============================] - 0s 3ms/step - loss: 0.9951\n",
      "Epoch 47/100\n",
      "2/2 [==============================] - 0s 3ms/step - loss: 0.9916\n",
      "Epoch 48/100\n",
      "2/2 [==============================] - 0s 4ms/step - loss: 0.9874\n",
      "Epoch 49/100\n",
      "2/2 [==============================] - 0s 3ms/step - loss: 0.9824\n",
      "Epoch 50/100\n",
      "2/2 [==============================] - 0s 3ms/step - loss: 0.9768\n",
      "Epoch 51/100\n",
      "2/2 [==============================] - 0s 3ms/step - loss: 0.9706\n",
      "Epoch 52/100\n",
      "2/2 [==============================] - 0s 6ms/step - loss: 0.9637\n",
      "Epoch 53/100\n",
      "2/2 [==============================] - 0s 3ms/step - loss: 0.9563\n",
      "Epoch 54/100\n",
      "2/2 [==============================] - 0s 3ms/step - loss: 0.9485\n",
      "Epoch 55/100\n",
      "2/2 [==============================] - 0s 2ms/step - loss: 0.9402\n",
      "Epoch 56/100\n",
      "2/2 [==============================] - 0s 3ms/step - loss: 0.9314\n",
      "Epoch 57/100\n",
      "2/2 [==============================] - 0s 3ms/step - loss: 0.9223\n",
      "Epoch 58/100\n",
      "2/2 [==============================] - 0s 3ms/step - loss: 0.9128\n",
      "Epoch 59/100\n",
      "2/2 [==============================] - 0s 6ms/step - loss: 0.9031\n",
      "Epoch 60/100\n",
      "2/2 [==============================] - 0s 4ms/step - loss: 0.8931\n",
      "Epoch 61/100\n",
      "2/2 [==============================] - 0s 3ms/step - loss: 0.8828\n",
      "Epoch 62/100\n",
      "2/2 [==============================] - 0s 2ms/step - loss: 0.8722\n",
      "Epoch 63/100\n",
      "2/2 [==============================] - 0s 3ms/step - loss: 0.8615\n",
      "Epoch 64/100\n",
      "2/2 [==============================] - 0s 3ms/step - loss: 0.8505\n",
      "Epoch 65/100\n",
      "2/2 [==============================] - 0s 3ms/step - loss: 0.8393\n",
      "Epoch 66/100\n",
      "2/2 [==============================] - 0s 4ms/step - loss: 0.8281\n",
      "Epoch 67/100\n",
      "2/2 [==============================] - 0s 3ms/step - loss: 0.8166\n",
      "Epoch 68/100\n",
      "2/2 [==============================] - 0s 2ms/step - loss: 0.8051\n",
      "Epoch 69/100\n",
      "2/2 [==============================] - 0s 3ms/step - loss: 0.7935\n",
      "Epoch 70/100\n",
      "2/2 [==============================] - 0s 3ms/step - loss: 0.7818\n",
      "Epoch 71/100\n",
      "2/2 [==============================] - 0s 4ms/step - loss: 0.7702\n",
      "Epoch 72/100\n",
      "2/2 [==============================] - 0s 3ms/step - loss: 0.7586\n",
      "Epoch 73/100\n",
      "2/2 [==============================] - 0s 4ms/step - loss: 0.7470\n",
      "Epoch 74/100\n",
      "2/2 [==============================] - 0s 3ms/step - loss: 0.7355\n",
      "Epoch 75/100\n",
      "2/2 [==============================] - 0s 4ms/step - loss: 0.7242\n",
      "Epoch 76/100\n",
      "2/2 [==============================] - 0s 2ms/step - loss: 0.7132\n",
      "Epoch 77/100\n",
      "2/2 [==============================] - 0s 4ms/step - loss: 0.7023\n",
      "Epoch 78/100\n",
      "2/2 [==============================] - 0s 3ms/step - loss: 0.6918\n",
      "Epoch 79/100\n",
      "2/2 [==============================] - 0s 3ms/step - loss: 0.6816\n",
      "Epoch 80/100\n",
      "2/2 [==============================] - 0s 3ms/step - loss: 0.6717\n",
      "Epoch 81/100\n",
      "2/2 [==============================] - 0s 3ms/step - loss: 0.6622\n",
      "Epoch 82/100\n",
      "2/2 [==============================] - 0s 2ms/step - loss: 0.6531\n",
      "Epoch 83/100\n",
      "2/2 [==============================] - 0s 2ms/step - loss: 0.6444\n",
      "Epoch 84/100\n",
      "2/2 [==============================] - 0s 3ms/step - loss: 0.6362\n",
      "Epoch 85/100\n",
      "2/2 [==============================] - 0s 2ms/step - loss: 0.6283\n",
      "Epoch 86/100\n",
      "2/2 [==============================] - 0s 2ms/step - loss: 0.6208\n",
      "Epoch 87/100\n",
      "2/2 [==============================] - 0s 3ms/step - loss: 0.6137\n",
      "Epoch 88/100\n",
      "2/2 [==============================] - 0s 2ms/step - loss: 0.6070\n",
      "Epoch 89/100\n",
      "2/2 [==============================] - 0s 2ms/step - loss: 0.6006\n",
      "Epoch 90/100\n",
      "2/2 [==============================] - 0s 3ms/step - loss: 0.5946\n",
      "Epoch 91/100\n",
      "2/2 [==============================] - 0s 2ms/step - loss: 0.5889\n",
      "Epoch 92/100\n",
      "2/2 [==============================] - 0s 2ms/step - loss: 0.5834\n",
      "Epoch 93/100\n",
      "2/2 [==============================] - 0s 3ms/step - loss: 0.5782\n",
      "Epoch 94/100\n",
      "2/2 [==============================] - 0s 2ms/step - loss: 0.5732\n",
      "Epoch 95/100\n",
      "2/2 [==============================] - 0s 2ms/step - loss: 0.5684\n",
      "Epoch 96/100\n",
      "2/2 [==============================] - 0s 3ms/step - loss: 0.5638\n",
      "Epoch 97/100\n",
      "2/2 [==============================] - 0s 2ms/step - loss: 0.5593\n",
      "Epoch 98/100\n",
      "2/2 [==============================] - 0s 3ms/step - loss: 0.5550\n",
      "Epoch 99/100\n",
      "2/2 [==============================] - 0s 3ms/step - loss: 0.5508\n",
      "Epoch 100/100\n",
      "2/2 [==============================] - 0s 3ms/step - loss: 0.5467\n"
     ]
    },
    {
     "data": {
      "text/plain": [
       "<keras.callbacks.callbacks.History at 0x7f88e57c9438>"
      ]
     },
     "execution_count": 479,
     "metadata": {},
     "output_type": "execute_result"
    }
   ],
   "source": [
    "model = Sequential()\n",
    "model.add(LSTM(4, batch_input_shape=(1, X_train.shape[1], X_train.shape[2]), stateful=True))\n",
    "model.add(Dense(1))\n",
    "model.compile(loss='mean_squared_error', optimizer='adam')\n",
    "model.fit(X_train, y_train, nb_epoch=100, batch_size=1, verbose=1, shuffle=False)"
   ]
  },
  {
   "cell_type": "code",
   "execution_count": 480,
   "metadata": {},
   "outputs": [],
   "source": [
    "y_pred = model.predict(X_test,batch_size=1)\n",
    "#for multistep prediction, you need to replace X_test values with the predictions coming from t-1"
   ]
  },
  {
   "cell_type": "code",
   "execution_count": 481,
   "metadata": {},
   "outputs": [
    {
     "name": "stdout",
     "output_type": "stream",
     "text": [
      "[[ -0.22507945   0.42264928  -3.58399676  -1.99592852   1.28101917\n",
      "   -1.66553735   1.70337863   1.12965837 -17.08183391   0.80697317\n",
      "    0.59552945  -1.94469346   3.30600597  -2.97838467]]\n",
      "[[ 0.70292532  1.30364452 -1.7459362  -5.86666331 -2.13586602  1.37453355\n",
      "   0.76593763  1.87863646  0.0425722  -0.74513952  0.44153946  0.40447911\n",
      "  -3.03392783  1.28108344]]\n",
      "[[-0.29262331  1.00272308 -0.60769178 -3.11331428 -6.55047615 -3.17938399\n",
      "   1.83509807  0.88042193  6.06504282  0.90759537 -0.7966813   0.17775245\n",
      "   2.02384773 -4.9903305 ]]\n",
      "[[-0.08791491  1.46308391 -0.99648179 -1.40826482 -3.41025519 -9.06303808\n",
      "   0.23353394  2.01889517 -1.96151735  1.48884457  0.5218123  -1.64533784\n",
      "   1.53570454  0.01278232]]\n",
      "[[ 0.45753309  1.48040496 -0.40169634 -1.99065836 -1.46562994 -4.87784995\n",
      "  -1.83568432  0.31350294  7.19285146  0.71417385  0.98551241  0.29594191\n",
      "  -2.38941429 -0.47008518]]\n",
      "[[-0.10507645  0.93893499 -0.37931757 -1.09969102 -2.12985535 -2.28611434\n",
      "  -0.36379838 -1.88986105 -6.52006582  1.59769324  0.36750743  0.97866925\n",
      "   1.7901668  -4.35278264]]\n"
     ]
    }
   ],
   "source": [
    "#reshape y_pred\n",
    "y_pred = y_pred.reshape(y_pred.shape[0], 1, y_pred.shape[1])\n",
    "#rebuild test set for inverse transform\n",
    "pred_test_set = []\n",
    "for index in range(0,len(y_pred)):\n",
    "    print(np.concatenate([y_pred[index],X_test[index]],axis=1))\n",
    "    pred_test_set.append(np.concatenate([y_pred[index],X_test[index]],axis=1))\n",
    "#reshape pred_test_set\n",
    "pred_test_set = np.array(pred_test_set)\n",
    "pred_test_set = pred_test_set.reshape(pred_test_set.shape[0], pred_test_set.shape[2])\n",
    "#inverse transform\n",
    "pred_test_set_inverted = scaler.inverse_transform(pred_test_set)"
   ]
  },
  {
   "cell_type": "code",
   "execution_count": 482,
   "metadata": {},
   "outputs": [],
   "source": [
    "#create dataframe that shows the predicted sales\n",
    "result_list = []\n",
    "sales_dates = list(df_UK[-7:].yearmonth)\n",
    "act_sales = list(df_UK[-7:].total_price)\n",
    "for index in range(0,len(pred_test_set_inverted)):\n",
    "    result_dict = {}\n",
    "    result_dict['pred_value'] = int(pred_test_set_inverted[index][0] + act_sales[index])\n",
    "    result_dict['yearmonth'] = sales_dates[index+1]\n",
    "    result_list.append(result_dict)\n",
    "df_result = pd.DataFrame(result_list)\n",
    "#for multistep prediction, replace act_sales with the predicted sales"
   ]
  },
  {
   "cell_type": "code",
   "execution_count": 483,
   "metadata": {},
   "outputs": [
    {
     "data": {
      "text/html": [
       "<div>\n",
       "<style scoped>\n",
       "    .dataframe tbody tr th:only-of-type {\n",
       "        vertical-align: middle;\n",
       "    }\n",
       "\n",
       "    .dataframe tbody tr th {\n",
       "        vertical-align: top;\n",
       "    }\n",
       "\n",
       "    .dataframe thead th {\n",
       "        text-align: right;\n",
       "    }\n",
       "</style>\n",
       "<table border=\"1\" class=\"dataframe\">\n",
       "  <thead>\n",
       "    <tr style=\"text-align: right;\">\n",
       "      <th></th>\n",
       "      <th>pred_value</th>\n",
       "      <th>yearmonth</th>\n",
       "    </tr>\n",
       "  </thead>\n",
       "  <tbody>\n",
       "    <tr>\n",
       "      <th>0</th>\n",
       "      <td>251877</td>\n",
       "      <td>2019-02-01</td>\n",
       "    </tr>\n",
       "    <tr>\n",
       "      <th>1</th>\n",
       "      <td>221670</td>\n",
       "      <td>2019-03-01</td>\n",
       "    </tr>\n",
       "    <tr>\n",
       "      <th>2</th>\n",
       "      <td>216921</td>\n",
       "      <td>2019-04-01</td>\n",
       "    </tr>\n",
       "    <tr>\n",
       "      <th>3</th>\n",
       "      <td>211615</td>\n",
       "      <td>2019-05-01</td>\n",
       "    </tr>\n",
       "    <tr>\n",
       "      <th>4</th>\n",
       "      <td>239775</td>\n",
       "      <td>2019-06-01</td>\n",
       "    </tr>\n",
       "    <tr>\n",
       "      <th>5</th>\n",
       "      <td>252401</td>\n",
       "      <td>2019-07-01</td>\n",
       "    </tr>\n",
       "  </tbody>\n",
       "</table>\n",
       "</div>"
      ],
      "text/plain": [
       "   pred_value  yearmonth\n",
       "0      251877 2019-02-01\n",
       "1      221670 2019-03-01\n",
       "2      216921 2019-04-01\n",
       "3      211615 2019-05-01\n",
       "4      239775 2019-06-01\n",
       "5      252401 2019-07-01"
      ]
     },
     "execution_count": 483,
     "metadata": {},
     "output_type": "execute_result"
    }
   ],
   "source": [
    "df_result"
   ]
  },
  {
   "cell_type": "code",
   "execution_count": 484,
   "metadata": {},
   "outputs": [
    {
     "data": {
      "application/vnd.plotly.v1+json": {
       "config": {
        "linkText": "Export to plot.ly",
        "plotlyServerURL": "https://plot.ly",
        "showLink": false
       },
       "data": [
        {
         "name": "actual",
         "type": "scatter",
         "x": [
          "2017-11-01T00:00:00",
          "2017-12-01T00:00:00",
          "2018-01-01T00:00:00",
          "2018-02-01T00:00:00",
          "2018-03-01T00:00:00",
          "2018-04-01T00:00:00",
          "2018-05-01T00:00:00",
          "2018-06-01T00:00:00",
          "2018-07-01T00:00:00",
          "2018-08-01T00:00:00",
          "2018-09-01T00:00:00",
          "2018-10-01T00:00:00",
          "2018-11-01T00:00:00",
          "2018-12-01T00:00:00",
          "2019-01-01T00:00:00",
          "2019-02-01T00:00:00",
          "2019-03-01T00:00:00",
          "2019-04-01T00:00:00",
          "2019-05-01T00:00:00",
          "2019-06-01T00:00:00",
          "2019-07-01T00:00:00"
         ],
         "y": [
          26481.670000000126,
          98676.46000000008,
          113260.83299999996,
          70857.4229999999,
          151148.87999999936,
          50790.95099999966,
          94548.72999999973,
          124397.40999999981,
          42404.17999999962,
          79503.47999999986,
          158486.34999999942,
          181648.10999999876,
          268474.3810000006,
          259933.49000000104,
          128178.37999999974,
          84068.58000000003,
          94234.34999999999,
          85861.22000000006,
          105849.58999999985,
          126905.0599999996,
          114602.12999999983
         ]
        },
        {
         "name": "predicted",
         "type": "scatter",
         "x": [
          "2017-11-01T00:00:00",
          "2017-12-01T00:00:00",
          "2018-01-01T00:00:00",
          "2018-02-01T00:00:00",
          "2018-03-01T00:00:00",
          "2018-04-01T00:00:00",
          "2018-05-01T00:00:00",
          "2018-06-01T00:00:00",
          "2018-07-01T00:00:00",
          "2018-08-01T00:00:00",
          "2018-09-01T00:00:00",
          "2018-10-01T00:00:00",
          "2018-11-01T00:00:00",
          "2018-12-01T00:00:00",
          "2019-01-01T00:00:00",
          "2019-02-01T00:00:00",
          "2019-03-01T00:00:00",
          "2019-04-01T00:00:00",
          "2019-05-01T00:00:00",
          "2019-06-01T00:00:00",
          "2019-07-01T00:00:00"
         ],
         "y": [
          null,
          null,
          null,
          null,
          null,
          null,
          null,
          null,
          null,
          null,
          null,
          null,
          null,
          null,
          null,
          251877,
          221670,
          216921,
          211615,
          239775,
          252401
         ]
        }
       ],
       "layout": {
        "template": {
         "data": {
          "bar": [
           {
            "error_x": {
             "color": "#2a3f5f"
            },
            "error_y": {
             "color": "#2a3f5f"
            },
            "marker": {
             "line": {
              "color": "#E5ECF6",
              "width": 0.5
             }
            },
            "type": "bar"
           }
          ],
          "barpolar": [
           {
            "marker": {
             "line": {
              "color": "#E5ECF6",
              "width": 0.5
             }
            },
            "type": "barpolar"
           }
          ],
          "carpet": [
           {
            "aaxis": {
             "endlinecolor": "#2a3f5f",
             "gridcolor": "white",
             "linecolor": "white",
             "minorgridcolor": "white",
             "startlinecolor": "#2a3f5f"
            },
            "baxis": {
             "endlinecolor": "#2a3f5f",
             "gridcolor": "white",
             "linecolor": "white",
             "minorgridcolor": "white",
             "startlinecolor": "#2a3f5f"
            },
            "type": "carpet"
           }
          ],
          "choropleth": [
           {
            "colorbar": {
             "outlinewidth": 0,
             "ticks": ""
            },
            "type": "choropleth"
           }
          ],
          "contour": [
           {
            "colorbar": {
             "outlinewidth": 0,
             "ticks": ""
            },
            "colorscale": [
             [
              0,
              "#0d0887"
             ],
             [
              0.1111111111111111,
              "#46039f"
             ],
             [
              0.2222222222222222,
              "#7201a8"
             ],
             [
              0.3333333333333333,
              "#9c179e"
             ],
             [
              0.4444444444444444,
              "#bd3786"
             ],
             [
              0.5555555555555556,
              "#d8576b"
             ],
             [
              0.6666666666666666,
              "#ed7953"
             ],
             [
              0.7777777777777778,
              "#fb9f3a"
             ],
             [
              0.8888888888888888,
              "#fdca26"
             ],
             [
              1,
              "#f0f921"
             ]
            ],
            "type": "contour"
           }
          ],
          "contourcarpet": [
           {
            "colorbar": {
             "outlinewidth": 0,
             "ticks": ""
            },
            "type": "contourcarpet"
           }
          ],
          "heatmap": [
           {
            "colorbar": {
             "outlinewidth": 0,
             "ticks": ""
            },
            "colorscale": [
             [
              0,
              "#0d0887"
             ],
             [
              0.1111111111111111,
              "#46039f"
             ],
             [
              0.2222222222222222,
              "#7201a8"
             ],
             [
              0.3333333333333333,
              "#9c179e"
             ],
             [
              0.4444444444444444,
              "#bd3786"
             ],
             [
              0.5555555555555556,
              "#d8576b"
             ],
             [
              0.6666666666666666,
              "#ed7953"
             ],
             [
              0.7777777777777778,
              "#fb9f3a"
             ],
             [
              0.8888888888888888,
              "#fdca26"
             ],
             [
              1,
              "#f0f921"
             ]
            ],
            "type": "heatmap"
           }
          ],
          "heatmapgl": [
           {
            "colorbar": {
             "outlinewidth": 0,
             "ticks": ""
            },
            "colorscale": [
             [
              0,
              "#0d0887"
             ],
             [
              0.1111111111111111,
              "#46039f"
             ],
             [
              0.2222222222222222,
              "#7201a8"
             ],
             [
              0.3333333333333333,
              "#9c179e"
             ],
             [
              0.4444444444444444,
              "#bd3786"
             ],
             [
              0.5555555555555556,
              "#d8576b"
             ],
             [
              0.6666666666666666,
              "#ed7953"
             ],
             [
              0.7777777777777778,
              "#fb9f3a"
             ],
             [
              0.8888888888888888,
              "#fdca26"
             ],
             [
              1,
              "#f0f921"
             ]
            ],
            "type": "heatmapgl"
           }
          ],
          "histogram": [
           {
            "marker": {
             "colorbar": {
              "outlinewidth": 0,
              "ticks": ""
             }
            },
            "type": "histogram"
           }
          ],
          "histogram2d": [
           {
            "colorbar": {
             "outlinewidth": 0,
             "ticks": ""
            },
            "colorscale": [
             [
              0,
              "#0d0887"
             ],
             [
              0.1111111111111111,
              "#46039f"
             ],
             [
              0.2222222222222222,
              "#7201a8"
             ],
             [
              0.3333333333333333,
              "#9c179e"
             ],
             [
              0.4444444444444444,
              "#bd3786"
             ],
             [
              0.5555555555555556,
              "#d8576b"
             ],
             [
              0.6666666666666666,
              "#ed7953"
             ],
             [
              0.7777777777777778,
              "#fb9f3a"
             ],
             [
              0.8888888888888888,
              "#fdca26"
             ],
             [
              1,
              "#f0f921"
             ]
            ],
            "type": "histogram2d"
           }
          ],
          "histogram2dcontour": [
           {
            "colorbar": {
             "outlinewidth": 0,
             "ticks": ""
            },
            "colorscale": [
             [
              0,
              "#0d0887"
             ],
             [
              0.1111111111111111,
              "#46039f"
             ],
             [
              0.2222222222222222,
              "#7201a8"
             ],
             [
              0.3333333333333333,
              "#9c179e"
             ],
             [
              0.4444444444444444,
              "#bd3786"
             ],
             [
              0.5555555555555556,
              "#d8576b"
             ],
             [
              0.6666666666666666,
              "#ed7953"
             ],
             [
              0.7777777777777778,
              "#fb9f3a"
             ],
             [
              0.8888888888888888,
              "#fdca26"
             ],
             [
              1,
              "#f0f921"
             ]
            ],
            "type": "histogram2dcontour"
           }
          ],
          "mesh3d": [
           {
            "colorbar": {
             "outlinewidth": 0,
             "ticks": ""
            },
            "type": "mesh3d"
           }
          ],
          "parcoords": [
           {
            "line": {
             "colorbar": {
              "outlinewidth": 0,
              "ticks": ""
             }
            },
            "type": "parcoords"
           }
          ],
          "pie": [
           {
            "automargin": true,
            "type": "pie"
           }
          ],
          "scatter": [
           {
            "marker": {
             "colorbar": {
              "outlinewidth": 0,
              "ticks": ""
             }
            },
            "type": "scatter"
           }
          ],
          "scatter3d": [
           {
            "line": {
             "colorbar": {
              "outlinewidth": 0,
              "ticks": ""
             }
            },
            "marker": {
             "colorbar": {
              "outlinewidth": 0,
              "ticks": ""
             }
            },
            "type": "scatter3d"
           }
          ],
          "scattercarpet": [
           {
            "marker": {
             "colorbar": {
              "outlinewidth": 0,
              "ticks": ""
             }
            },
            "type": "scattercarpet"
           }
          ],
          "scattergeo": [
           {
            "marker": {
             "colorbar": {
              "outlinewidth": 0,
              "ticks": ""
             }
            },
            "type": "scattergeo"
           }
          ],
          "scattergl": [
           {
            "marker": {
             "colorbar": {
              "outlinewidth": 0,
              "ticks": ""
             }
            },
            "type": "scattergl"
           }
          ],
          "scattermapbox": [
           {
            "marker": {
             "colorbar": {
              "outlinewidth": 0,
              "ticks": ""
             }
            },
            "type": "scattermapbox"
           }
          ],
          "scatterpolar": [
           {
            "marker": {
             "colorbar": {
              "outlinewidth": 0,
              "ticks": ""
             }
            },
            "type": "scatterpolar"
           }
          ],
          "scatterpolargl": [
           {
            "marker": {
             "colorbar": {
              "outlinewidth": 0,
              "ticks": ""
             }
            },
            "type": "scatterpolargl"
           }
          ],
          "scatterternary": [
           {
            "marker": {
             "colorbar": {
              "outlinewidth": 0,
              "ticks": ""
             }
            },
            "type": "scatterternary"
           }
          ],
          "surface": [
           {
            "colorbar": {
             "outlinewidth": 0,
             "ticks": ""
            },
            "colorscale": [
             [
              0,
              "#0d0887"
             ],
             [
              0.1111111111111111,
              "#46039f"
             ],
             [
              0.2222222222222222,
              "#7201a8"
             ],
             [
              0.3333333333333333,
              "#9c179e"
             ],
             [
              0.4444444444444444,
              "#bd3786"
             ],
             [
              0.5555555555555556,
              "#d8576b"
             ],
             [
              0.6666666666666666,
              "#ed7953"
             ],
             [
              0.7777777777777778,
              "#fb9f3a"
             ],
             [
              0.8888888888888888,
              "#fdca26"
             ],
             [
              1,
              "#f0f921"
             ]
            ],
            "type": "surface"
           }
          ],
          "table": [
           {
            "cells": {
             "fill": {
              "color": "#EBF0F8"
             },
             "line": {
              "color": "white"
             }
            },
            "header": {
             "fill": {
              "color": "#C8D4E3"
             },
             "line": {
              "color": "white"
             }
            },
            "type": "table"
           }
          ]
         },
         "layout": {
          "annotationdefaults": {
           "arrowcolor": "#2a3f5f",
           "arrowhead": 0,
           "arrowwidth": 1
          },
          "coloraxis": {
           "colorbar": {
            "outlinewidth": 0,
            "ticks": ""
           }
          },
          "colorscale": {
           "diverging": [
            [
             0,
             "#8e0152"
            ],
            [
             0.1,
             "#c51b7d"
            ],
            [
             0.2,
             "#de77ae"
            ],
            [
             0.3,
             "#f1b6da"
            ],
            [
             0.4,
             "#fde0ef"
            ],
            [
             0.5,
             "#f7f7f7"
            ],
            [
             0.6,
             "#e6f5d0"
            ],
            [
             0.7,
             "#b8e186"
            ],
            [
             0.8,
             "#7fbc41"
            ],
            [
             0.9,
             "#4d9221"
            ],
            [
             1,
             "#276419"
            ]
           ],
           "sequential": [
            [
             0,
             "#0d0887"
            ],
            [
             0.1111111111111111,
             "#46039f"
            ],
            [
             0.2222222222222222,
             "#7201a8"
            ],
            [
             0.3333333333333333,
             "#9c179e"
            ],
            [
             0.4444444444444444,
             "#bd3786"
            ],
            [
             0.5555555555555556,
             "#d8576b"
            ],
            [
             0.6666666666666666,
             "#ed7953"
            ],
            [
             0.7777777777777778,
             "#fb9f3a"
            ],
            [
             0.8888888888888888,
             "#fdca26"
            ],
            [
             1,
             "#f0f921"
            ]
           ],
           "sequentialminus": [
            [
             0,
             "#0d0887"
            ],
            [
             0.1111111111111111,
             "#46039f"
            ],
            [
             0.2222222222222222,
             "#7201a8"
            ],
            [
             0.3333333333333333,
             "#9c179e"
            ],
            [
             0.4444444444444444,
             "#bd3786"
            ],
            [
             0.5555555555555556,
             "#d8576b"
            ],
            [
             0.6666666666666666,
             "#ed7953"
            ],
            [
             0.7777777777777778,
             "#fb9f3a"
            ],
            [
             0.8888888888888888,
             "#fdca26"
            ],
            [
             1,
             "#f0f921"
            ]
           ]
          },
          "colorway": [
           "#636efa",
           "#EF553B",
           "#00cc96",
           "#ab63fa",
           "#FFA15A",
           "#19d3f3",
           "#FF6692",
           "#B6E880",
           "#FF97FF",
           "#FECB52"
          ],
          "font": {
           "color": "#2a3f5f"
          },
          "geo": {
           "bgcolor": "white",
           "lakecolor": "white",
           "landcolor": "#E5ECF6",
           "showlakes": true,
           "showland": true,
           "subunitcolor": "white"
          },
          "hoverlabel": {
           "align": "left"
          },
          "hovermode": "closest",
          "mapbox": {
           "style": "light"
          },
          "paper_bgcolor": "white",
          "plot_bgcolor": "#E5ECF6",
          "polar": {
           "angularaxis": {
            "gridcolor": "white",
            "linecolor": "white",
            "ticks": ""
           },
           "bgcolor": "#E5ECF6",
           "radialaxis": {
            "gridcolor": "white",
            "linecolor": "white",
            "ticks": ""
           }
          },
          "scene": {
           "xaxis": {
            "backgroundcolor": "#E5ECF6",
            "gridcolor": "white",
            "gridwidth": 2,
            "linecolor": "white",
            "showbackground": true,
            "ticks": "",
            "zerolinecolor": "white"
           },
           "yaxis": {
            "backgroundcolor": "#E5ECF6",
            "gridcolor": "white",
            "gridwidth": 2,
            "linecolor": "white",
            "showbackground": true,
            "ticks": "",
            "zerolinecolor": "white"
           },
           "zaxis": {
            "backgroundcolor": "#E5ECF6",
            "gridcolor": "white",
            "gridwidth": 2,
            "linecolor": "white",
            "showbackground": true,
            "ticks": "",
            "zerolinecolor": "white"
           }
          },
          "shapedefaults": {
           "line": {
            "color": "#2a3f5f"
           }
          },
          "ternary": {
           "aaxis": {
            "gridcolor": "white",
            "linecolor": "white",
            "ticks": ""
           },
           "baxis": {
            "gridcolor": "white",
            "linecolor": "white",
            "ticks": ""
           },
           "bgcolor": "#E5ECF6",
           "caxis": {
            "gridcolor": "white",
            "linecolor": "white",
            "ticks": ""
           }
          },
          "title": {
           "x": 0.05
          },
          "xaxis": {
           "automargin": true,
           "gridcolor": "white",
           "linecolor": "white",
           "ticks": "",
           "title": {
            "standoff": 15
           },
           "zerolinecolor": "white",
           "zerolinewidth": 2
          },
          "yaxis": {
           "automargin": true,
           "gridcolor": "white",
           "linecolor": "white",
           "ticks": "",
           "title": {
            "standoff": 15
           },
           "zerolinecolor": "white",
           "zerolinewidth": 2
          }
         }
        },
        "title": {
         "text": "Sales Prediction"
        }
       }
      },
      "text/html": [
       "<div>                            <div id=\"53e5f69f-fa6b-430e-ae94-0d4d4f883e22\" class=\"plotly-graph-div\" style=\"height:525px; width:100%;\"></div>            <script type=\"text/javascript\">                require([\"plotly\"], function(Plotly) {                    window.PLOTLYENV=window.PLOTLYENV || {};                                    if (document.getElementById(\"53e5f69f-fa6b-430e-ae94-0d4d4f883e22\")) {                    Plotly.newPlot(                        \"53e5f69f-fa6b-430e-ae94-0d4d4f883e22\",                        [{\"name\": \"actual\", \"type\": \"scatter\", \"x\": [\"2017-11-01T00:00:00\", \"2017-12-01T00:00:00\", \"2018-01-01T00:00:00\", \"2018-02-01T00:00:00\", \"2018-03-01T00:00:00\", \"2018-04-01T00:00:00\", \"2018-05-01T00:00:00\", \"2018-06-01T00:00:00\", \"2018-07-01T00:00:00\", \"2018-08-01T00:00:00\", \"2018-09-01T00:00:00\", \"2018-10-01T00:00:00\", \"2018-11-01T00:00:00\", \"2018-12-01T00:00:00\", \"2019-01-01T00:00:00\", \"2019-02-01T00:00:00\", \"2019-03-01T00:00:00\", \"2019-04-01T00:00:00\", \"2019-05-01T00:00:00\", \"2019-06-01T00:00:00\", \"2019-07-01T00:00:00\"], \"y\": [26481.670000000126, 98676.46000000008, 113260.83299999996, 70857.4229999999, 151148.87999999936, 50790.95099999966, 94548.72999999973, 124397.40999999981, 42404.17999999962, 79503.47999999986, 158486.34999999942, 181648.10999999876, 268474.3810000006, 259933.49000000104, 128178.37999999974, 84068.58000000003, 94234.34999999999, 85861.22000000006, 105849.58999999985, 126905.0599999996, 114602.12999999983]}, {\"name\": \"predicted\", \"type\": \"scatter\", \"x\": [\"2017-11-01T00:00:00\", \"2017-12-01T00:00:00\", \"2018-01-01T00:00:00\", \"2018-02-01T00:00:00\", \"2018-03-01T00:00:00\", \"2018-04-01T00:00:00\", \"2018-05-01T00:00:00\", \"2018-06-01T00:00:00\", \"2018-07-01T00:00:00\", \"2018-08-01T00:00:00\", \"2018-09-01T00:00:00\", \"2018-10-01T00:00:00\", \"2018-11-01T00:00:00\", \"2018-12-01T00:00:00\", \"2019-01-01T00:00:00\", \"2019-02-01T00:00:00\", \"2019-03-01T00:00:00\", \"2019-04-01T00:00:00\", \"2019-05-01T00:00:00\", \"2019-06-01T00:00:00\", \"2019-07-01T00:00:00\"], \"y\": [null, null, null, null, null, null, null, null, null, null, null, null, null, null, null, 251877.0, 221670.0, 216921.0, 211615.0, 239775.0, 252401.0]}],                        {\"template\": {\"data\": {\"bar\": [{\"error_x\": {\"color\": \"#2a3f5f\"}, \"error_y\": {\"color\": \"#2a3f5f\"}, \"marker\": {\"line\": {\"color\": \"#E5ECF6\", \"width\": 0.5}}, \"type\": \"bar\"}], \"barpolar\": [{\"marker\": {\"line\": {\"color\": \"#E5ECF6\", \"width\": 0.5}}, \"type\": \"barpolar\"}], \"carpet\": [{\"aaxis\": {\"endlinecolor\": \"#2a3f5f\", \"gridcolor\": \"white\", \"linecolor\": \"white\", \"minorgridcolor\": \"white\", \"startlinecolor\": \"#2a3f5f\"}, \"baxis\": {\"endlinecolor\": \"#2a3f5f\", \"gridcolor\": \"white\", \"linecolor\": \"white\", \"minorgridcolor\": \"white\", \"startlinecolor\": \"#2a3f5f\"}, \"type\": \"carpet\"}], \"choropleth\": [{\"colorbar\": {\"outlinewidth\": 0, \"ticks\": \"\"}, \"type\": \"choropleth\"}], \"contour\": [{\"colorbar\": {\"outlinewidth\": 0, \"ticks\": \"\"}, \"colorscale\": [[0.0, \"#0d0887\"], [0.1111111111111111, \"#46039f\"], [0.2222222222222222, \"#7201a8\"], [0.3333333333333333, \"#9c179e\"], [0.4444444444444444, \"#bd3786\"], [0.5555555555555556, \"#d8576b\"], [0.6666666666666666, \"#ed7953\"], [0.7777777777777778, \"#fb9f3a\"], [0.8888888888888888, \"#fdca26\"], [1.0, \"#f0f921\"]], \"type\": \"contour\"}], \"contourcarpet\": [{\"colorbar\": {\"outlinewidth\": 0, \"ticks\": \"\"}, \"type\": \"contourcarpet\"}], \"heatmap\": [{\"colorbar\": {\"outlinewidth\": 0, \"ticks\": \"\"}, \"colorscale\": [[0.0, \"#0d0887\"], [0.1111111111111111, \"#46039f\"], [0.2222222222222222, \"#7201a8\"], [0.3333333333333333, \"#9c179e\"], [0.4444444444444444, \"#bd3786\"], [0.5555555555555556, \"#d8576b\"], [0.6666666666666666, \"#ed7953\"], [0.7777777777777778, \"#fb9f3a\"], [0.8888888888888888, \"#fdca26\"], [1.0, \"#f0f921\"]], \"type\": \"heatmap\"}], \"heatmapgl\": [{\"colorbar\": {\"outlinewidth\": 0, \"ticks\": \"\"}, \"colorscale\": [[0.0, \"#0d0887\"], [0.1111111111111111, \"#46039f\"], [0.2222222222222222, \"#7201a8\"], [0.3333333333333333, \"#9c179e\"], [0.4444444444444444, \"#bd3786\"], [0.5555555555555556, \"#d8576b\"], [0.6666666666666666, \"#ed7953\"], [0.7777777777777778, \"#fb9f3a\"], [0.8888888888888888, \"#fdca26\"], [1.0, \"#f0f921\"]], \"type\": \"heatmapgl\"}], \"histogram\": [{\"marker\": {\"colorbar\": {\"outlinewidth\": 0, \"ticks\": \"\"}}, \"type\": \"histogram\"}], \"histogram2d\": [{\"colorbar\": {\"outlinewidth\": 0, \"ticks\": \"\"}, \"colorscale\": [[0.0, \"#0d0887\"], [0.1111111111111111, \"#46039f\"], [0.2222222222222222, \"#7201a8\"], [0.3333333333333333, \"#9c179e\"], [0.4444444444444444, \"#bd3786\"], [0.5555555555555556, \"#d8576b\"], [0.6666666666666666, \"#ed7953\"], [0.7777777777777778, \"#fb9f3a\"], [0.8888888888888888, \"#fdca26\"], [1.0, \"#f0f921\"]], \"type\": \"histogram2d\"}], \"histogram2dcontour\": [{\"colorbar\": {\"outlinewidth\": 0, \"ticks\": \"\"}, \"colorscale\": [[0.0, \"#0d0887\"], [0.1111111111111111, \"#46039f\"], [0.2222222222222222, \"#7201a8\"], [0.3333333333333333, \"#9c179e\"], [0.4444444444444444, \"#bd3786\"], [0.5555555555555556, \"#d8576b\"], [0.6666666666666666, \"#ed7953\"], [0.7777777777777778, \"#fb9f3a\"], [0.8888888888888888, \"#fdca26\"], [1.0, \"#f0f921\"]], \"type\": \"histogram2dcontour\"}], \"mesh3d\": [{\"colorbar\": {\"outlinewidth\": 0, \"ticks\": \"\"}, \"type\": \"mesh3d\"}], \"parcoords\": [{\"line\": {\"colorbar\": {\"outlinewidth\": 0, \"ticks\": \"\"}}, \"type\": \"parcoords\"}], \"pie\": [{\"automargin\": true, \"type\": \"pie\"}], \"scatter\": [{\"marker\": {\"colorbar\": {\"outlinewidth\": 0, \"ticks\": \"\"}}, \"type\": \"scatter\"}], \"scatter3d\": [{\"line\": {\"colorbar\": {\"outlinewidth\": 0, \"ticks\": \"\"}}, \"marker\": {\"colorbar\": {\"outlinewidth\": 0, \"ticks\": \"\"}}, \"type\": \"scatter3d\"}], \"scattercarpet\": [{\"marker\": {\"colorbar\": {\"outlinewidth\": 0, \"ticks\": \"\"}}, \"type\": \"scattercarpet\"}], \"scattergeo\": [{\"marker\": {\"colorbar\": {\"outlinewidth\": 0, \"ticks\": \"\"}}, \"type\": \"scattergeo\"}], \"scattergl\": [{\"marker\": {\"colorbar\": {\"outlinewidth\": 0, \"ticks\": \"\"}}, \"type\": \"scattergl\"}], \"scattermapbox\": [{\"marker\": {\"colorbar\": {\"outlinewidth\": 0, \"ticks\": \"\"}}, \"type\": \"scattermapbox\"}], \"scatterpolar\": [{\"marker\": {\"colorbar\": {\"outlinewidth\": 0, \"ticks\": \"\"}}, \"type\": \"scatterpolar\"}], \"scatterpolargl\": [{\"marker\": {\"colorbar\": {\"outlinewidth\": 0, \"ticks\": \"\"}}, \"type\": \"scatterpolargl\"}], \"scatterternary\": [{\"marker\": {\"colorbar\": {\"outlinewidth\": 0, \"ticks\": \"\"}}, \"type\": \"scatterternary\"}], \"surface\": [{\"colorbar\": {\"outlinewidth\": 0, \"ticks\": \"\"}, \"colorscale\": [[0.0, \"#0d0887\"], [0.1111111111111111, \"#46039f\"], [0.2222222222222222, \"#7201a8\"], [0.3333333333333333, \"#9c179e\"], [0.4444444444444444, \"#bd3786\"], [0.5555555555555556, \"#d8576b\"], [0.6666666666666666, \"#ed7953\"], [0.7777777777777778, \"#fb9f3a\"], [0.8888888888888888, \"#fdca26\"], [1.0, \"#f0f921\"]], \"type\": \"surface\"}], \"table\": [{\"cells\": {\"fill\": {\"color\": \"#EBF0F8\"}, \"line\": {\"color\": \"white\"}}, \"header\": {\"fill\": {\"color\": \"#C8D4E3\"}, \"line\": {\"color\": \"white\"}}, \"type\": \"table\"}]}, \"layout\": {\"annotationdefaults\": {\"arrowcolor\": \"#2a3f5f\", \"arrowhead\": 0, \"arrowwidth\": 1}, \"coloraxis\": {\"colorbar\": {\"outlinewidth\": 0, \"ticks\": \"\"}}, \"colorscale\": {\"diverging\": [[0, \"#8e0152\"], [0.1, \"#c51b7d\"], [0.2, \"#de77ae\"], [0.3, \"#f1b6da\"], [0.4, \"#fde0ef\"], [0.5, \"#f7f7f7\"], [0.6, \"#e6f5d0\"], [0.7, \"#b8e186\"], [0.8, \"#7fbc41\"], [0.9, \"#4d9221\"], [1, \"#276419\"]], \"sequential\": [[0.0, \"#0d0887\"], [0.1111111111111111, \"#46039f\"], [0.2222222222222222, \"#7201a8\"], [0.3333333333333333, \"#9c179e\"], [0.4444444444444444, \"#bd3786\"], [0.5555555555555556, \"#d8576b\"], [0.6666666666666666, \"#ed7953\"], [0.7777777777777778, \"#fb9f3a\"], [0.8888888888888888, \"#fdca26\"], [1.0, \"#f0f921\"]], \"sequentialminus\": [[0.0, \"#0d0887\"], [0.1111111111111111, \"#46039f\"], [0.2222222222222222, \"#7201a8\"], [0.3333333333333333, \"#9c179e\"], [0.4444444444444444, \"#bd3786\"], [0.5555555555555556, \"#d8576b\"], [0.6666666666666666, \"#ed7953\"], [0.7777777777777778, \"#fb9f3a\"], [0.8888888888888888, \"#fdca26\"], [1.0, \"#f0f921\"]]}, \"colorway\": [\"#636efa\", \"#EF553B\", \"#00cc96\", \"#ab63fa\", \"#FFA15A\", \"#19d3f3\", \"#FF6692\", \"#B6E880\", \"#FF97FF\", \"#FECB52\"], \"font\": {\"color\": \"#2a3f5f\"}, \"geo\": {\"bgcolor\": \"white\", \"lakecolor\": \"white\", \"landcolor\": \"#E5ECF6\", \"showlakes\": true, \"showland\": true, \"subunitcolor\": \"white\"}, \"hoverlabel\": {\"align\": \"left\"}, \"hovermode\": \"closest\", \"mapbox\": {\"style\": \"light\"}, \"paper_bgcolor\": \"white\", \"plot_bgcolor\": \"#E5ECF6\", \"polar\": {\"angularaxis\": {\"gridcolor\": \"white\", \"linecolor\": \"white\", \"ticks\": \"\"}, \"bgcolor\": \"#E5ECF6\", \"radialaxis\": {\"gridcolor\": \"white\", \"linecolor\": \"white\", \"ticks\": \"\"}}, \"scene\": {\"xaxis\": {\"backgroundcolor\": \"#E5ECF6\", \"gridcolor\": \"white\", \"gridwidth\": 2, \"linecolor\": \"white\", \"showbackground\": true, \"ticks\": \"\", \"zerolinecolor\": \"white\"}, \"yaxis\": {\"backgroundcolor\": \"#E5ECF6\", \"gridcolor\": \"white\", \"gridwidth\": 2, \"linecolor\": \"white\", \"showbackground\": true, \"ticks\": \"\", \"zerolinecolor\": \"white\"}, \"zaxis\": {\"backgroundcolor\": \"#E5ECF6\", \"gridcolor\": \"white\", \"gridwidth\": 2, \"linecolor\": \"white\", \"showbackground\": true, \"ticks\": \"\", \"zerolinecolor\": \"white\"}}, \"shapedefaults\": {\"line\": {\"color\": \"#2a3f5f\"}}, \"ternary\": {\"aaxis\": {\"gridcolor\": \"white\", \"linecolor\": \"white\", \"ticks\": \"\"}, \"baxis\": {\"gridcolor\": \"white\", \"linecolor\": \"white\", \"ticks\": \"\"}, \"bgcolor\": \"#E5ECF6\", \"caxis\": {\"gridcolor\": \"white\", \"linecolor\": \"white\", \"ticks\": \"\"}}, \"title\": {\"x\": 0.05}, \"xaxis\": {\"automargin\": true, \"gridcolor\": \"white\", \"linecolor\": \"white\", \"ticks\": \"\", \"title\": {\"standoff\": 15}, \"zerolinecolor\": \"white\", \"zerolinewidth\": 2}, \"yaxis\": {\"automargin\": true, \"gridcolor\": \"white\", \"linecolor\": \"white\", \"ticks\": \"\", \"title\": {\"standoff\": 15}, \"zerolinecolor\": \"white\", \"zerolinewidth\": 2}}}, \"title\": {\"text\": \"Sales Prediction\"}},                        {\"responsive\": true}                    ).then(function(){\n",
       "                            \n",
       "var gd = document.getElementById('53e5f69f-fa6b-430e-ae94-0d4d4f883e22');\n",
       "var x = new MutationObserver(function (mutations, observer) {{\n",
       "        var display = window.getComputedStyle(gd).display;\n",
       "        if (!display || display === 'none') {{\n",
       "            console.log([gd, 'removed!']);\n",
       "            Plotly.purge(gd);\n",
       "            observer.disconnect();\n",
       "        }}\n",
       "}});\n",
       "\n",
       "// Listen for the removal of the full notebook cells\n",
       "var notebookContainer = gd.closest('#notebook-container');\n",
       "if (notebookContainer) {{\n",
       "    x.observe(notebookContainer, {childList: true});\n",
       "}}\n",
       "\n",
       "// Listen for the clearing of the current output cell\n",
       "var outputEl = gd.closest('.output');\n",
       "if (outputEl) {{\n",
       "    x.observe(outputEl, {childList: true});\n",
       "}}\n",
       "\n",
       "                        })                };                });            </script>        </div>"
      ]
     },
     "metadata": {},
     "output_type": "display_data"
    }
   ],
   "source": [
    "#merge with actual sales dataframe\n",
    "df_sales_pred = pd.merge(df_UK,df_result,on='yearmonth',how='left')\n",
    "#plot actual and predicted\n",
    "plot_data = [\n",
    "    go.Scatter(\n",
    "        x=df_sales_pred['yearmonth'],\n",
    "        y=df_sales_pred['total_price'],\n",
    "        name='actual'\n",
    "    ),\n",
    "        go.Scatter(\n",
    "        x=df_sales_pred['yearmonth'],\n",
    "        y=df_sales_pred['pred_value'],\n",
    "        name='predicted'\n",
    "    )\n",
    "    \n",
    "]\n",
    "plot_layout = go.Layout(\n",
    "        title='Sales Prediction'\n",
    "    )\n",
    "fig = go.Figure(data=plot_data, layout=plot_layout)\n",
    "pyoff.iplot(fig)"
   ]
  },
  {
   "cell_type": "code",
   "execution_count": null,
   "metadata": {},
   "outputs": [],
   "source": []
  }
 ],
 "metadata": {
  "kernelspec": {
   "display_name": "Python 3",
   "language": "python",
   "name": "python3"
  },
  "language_info": {
   "codemirror_mode": {
    "name": "ipython",
    "version": 3
   },
   "file_extension": ".py",
   "mimetype": "text/x-python",
   "name": "python",
   "nbconvert_exporter": "python",
   "pygments_lexer": "ipython3",
   "version": "3.6.10"
  }
 },
 "nbformat": 4,
 "nbformat_minor": 4
}
